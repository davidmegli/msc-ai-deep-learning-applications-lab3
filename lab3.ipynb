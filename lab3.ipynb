{
 "cells": [
  {
   "cell_type": "markdown",
   "id": "64563719",
   "metadata": {},
   "source": [
    "# Working with Transformers in the HuggingFace Ecosystem\n",
    "\n",
    "In this laboratory exercise we will learn how to work with the HuggingFace ecosystem to adapt models to new tasks. As you will see, much of what is required is *investigation* into the inner-workings of the HuggingFace abstractions. With a little work, a little trial-and-error, it is fairly easy to get a working adaptation pipeline up and running."
   ]
  },
  {
   "cell_type": "markdown",
   "id": "d80983c2",
   "metadata": {},
   "source": [
    "## Exercise 1: Sentiment Analysis"
   ]
  },
  {
   "cell_type": "markdown",
   "id": "8585b179",
   "metadata": {},
   "source": [
    "### 1.1"
   ]
  },
  {
   "cell_type": "markdown",
   "id": "40c37588",
   "metadata": {},
   "source": [
    "Installing Libraries"
   ]
  },
  {
   "cell_type": "code",
   "execution_count": null,
   "id": "fcc02f33",
   "metadata": {},
   "outputs": [],
   "source": [
    "!pip install datasets"
   ]
  },
  {
   "cell_type": "markdown",
   "id": "72191898",
   "metadata": {},
   "source": [
    "Loading Dataset"
   ]
  },
  {
   "cell_type": "code",
   "execution_count": 8,
   "id": "e8763331",
   "metadata": {},
   "outputs": [],
   "source": [
    "from datasets import load_dataset\n",
    "dataset_id = \"rotten_tomatoes\"\n",
    "# Il dataset Rotten Tomatoes è disponibile con il nome \"rotten_tomatoes\"\n",
    "dataset = load_dataset(dataset_id)"
   ]
  },
  {
   "cell_type": "code",
   "execution_count": 9,
   "id": "cc3b591f",
   "metadata": {},
   "outputs": [
    {
     "name": "stdout",
     "output_type": "stream",
     "text": [
      "DatasetDict({\n",
      "    train: Dataset({\n",
      "        features: ['text', 'label'],\n",
      "        num_rows: 8530\n",
      "    })\n",
      "    validation: Dataset({\n",
      "        features: ['text', 'label'],\n",
      "        num_rows: 1066\n",
      "    })\n",
      "    test: Dataset({\n",
      "        features: ['text', 'label'],\n",
      "        num_rows: 1066\n",
      "    })\n",
      "})\n",
      "{'text': 'the rock is destined to be the 21st century\\'s new \" conan \" and that he\\'s going to make a splash even greater than arnold schwarzenegger , jean-claud van damme or steven segal .', 'label': 1}\n"
     ]
    }
   ],
   "source": [
    "print(dataset)  # Dataset split: train, validation, test\n",
    "# One training example\n",
    "print(dataset[\"train\"][0])"
   ]
  },
  {
   "cell_type": "markdown",
   "id": "a261662a",
   "metadata": {},
   "source": [
    "The split is 80% Train, 10% Validation, 10% Test ✅\n",
    "\n",
    "The rock rocks 🗿"
   ]
  },
  {
   "cell_type": "code",
   "execution_count": 8,
   "id": "235c488c",
   "metadata": {},
   "outputs": [
    {
     "name": "stdout",
     "output_type": "stream",
     "text": [
      "{'text': Value(dtype='string', id=None), 'label': ClassLabel(names=['neg', 'pos'], id=None)}\n",
      "Counter({1: 4265, 0: 4265})\n"
     ]
    }
   ],
   "source": [
    "# Showing dataset features\n",
    "print(dataset[\"train\"].features)\n",
    "# Showing instances per class (label: 0 = ❌, 1 = ✅)\n",
    "from collections import Counter\n",
    "\n",
    "labels = [example[\"label\"] for example in dataset[\"train\"]]\n",
    "print(Counter(labels))\n"
   ]
  },
  {
   "cell_type": "markdown",
   "id": "33f95f82",
   "metadata": {},
   "source": [
    "Dataset is perfectly balanced ✅"
   ]
  },
  {
   "cell_type": "markdown",
   "id": "15dd4ac4",
   "metadata": {},
   "source": [
    "### 1.2: Pre-trained BERT\n",
    "Importing Distilbert tokenizer"
   ]
  },
  {
   "cell_type": "code",
   "execution_count": 10,
   "id": "65aaca68",
   "metadata": {},
   "outputs": [
    {
     "data": {
      "text/plain": [
       "DistilBertTokenizerFast(name_or_path='distilbert-base-uncased', vocab_size=30522, model_max_length=512, is_fast=True, padding_side='right', truncation_side='right', special_tokens={'unk_token': '[UNK]', 'sep_token': '[SEP]', 'pad_token': '[PAD]', 'cls_token': '[CLS]', 'mask_token': '[MASK]'}, clean_up_tokenization_spaces=False, added_tokens_decoder={\n",
       "\t0: AddedToken(\"[PAD]\", rstrip=False, lstrip=False, single_word=False, normalized=False, special=True),\n",
       "\t100: AddedToken(\"[UNK]\", rstrip=False, lstrip=False, single_word=False, normalized=False, special=True),\n",
       "\t101: AddedToken(\"[CLS]\", rstrip=False, lstrip=False, single_word=False, normalized=False, special=True),\n",
       "\t102: AddedToken(\"[SEP]\", rstrip=False, lstrip=False, single_word=False, normalized=False, special=True),\n",
       "\t103: AddedToken(\"[MASK]\", rstrip=False, lstrip=False, single_word=False, normalized=False, special=True),\n",
       "}\n",
       ")"
      ]
     },
     "execution_count": 10,
     "metadata": {},
     "output_type": "execute_result"
    }
   ],
   "source": [
    "from transformers import AutoTokenizer\n",
    "\n",
    "model_name = \"distilbert-base-uncased\"\n",
    "# Loading tokenizer\n",
    "tokenizer = AutoTokenizer.from_pretrained(model_name)\n",
    "tokenizer"
   ]
  },
  {
   "cell_type": "markdown",
   "id": "7186771c",
   "metadata": {},
   "source": [
    "Visualizing sentences length distribution"
   ]
  },
  {
   "cell_type": "code",
   "execution_count": 10,
   "id": "19fde57a",
   "metadata": {},
   "outputs": [
    {
     "data": {
      "image/png": "[encoded data removed]",
      "text/plain": [
       "<Figure size 640x480 with 1 Axes>"
      ]
     },
     "metadata": {},
     "output_type": "display_data"
    }
   ],
   "source": [
    "import matplotlib.pyplot as plt\n",
    "# Calculating length (number of tokens)\n",
    "lengths = [len(tokenizer(example[\"text\"])[\"input_ids\"]) for example in dataset[\"train\"]]#.select(range(1000))]\n",
    "\n",
    "# Visualizing sentences length distribution\n",
    "plt.hist(lengths, bins=30, color=\"skyblue\")\n",
    "plt.title(\"Distribuzione delle lunghezze delle frasi (in token)\")\n",
    "plt.xlabel(\"Numero di token\")\n",
    "plt.ylabel(\"Frequenza\")\n",
    "plt.show()\n"
   ]
  },
  {
   "cell_type": "markdown",
   "id": "5b4c6e75",
   "metadata": {},
   "source": [
    "Notes: Length of sentences varies alot"
   ]
  },
  {
   "cell_type": "markdown",
   "id": "0e55720b",
   "metadata": {},
   "source": [
    "⚠️ (Optional) Installing PyTorch"
   ]
  },
  {
   "cell_type": "code",
   "execution_count": null,
   "id": "3939200b",
   "metadata": {},
   "outputs": [],
   "source": [
    "import subprocess\n",
    "cmd = [\n",
    "    \"pip3\", \"install\",\n",
    "    \"torch\", \"torchvision\", \"torchaudio\",\n",
    "    \"--index-url\", \"https://download.pytorch.org/whl/cu118\"\n",
    "]\n",
    "process = subprocess.Popen(cmd, stdout=subprocess.PIPE, stderr=subprocess.STDOUT, text=True)\n",
    "for line in process.stdout:\n",
    "    print(line, end='')\n",
    "process.wait()"
   ]
  },
  {
   "cell_type": "markdown",
   "id": "d38e9cb6",
   "metadata": {},
   "source": [
    "⚙️ Checking if PyTorch is correctly installed and CUDA is available"
   ]
  },
  {
   "cell_type": "code",
   "execution_count": 11,
   "id": "e01be548",
   "metadata": {},
   "outputs": [
    {
     "name": "stdout",
     "output_type": "stream",
     "text": [
      "2.7.0+cu118\n",
      "True\n"
     ]
    }
   ],
   "source": [
    "import torch\n",
    "print(torch.__version__)\n",
    "print(torch.cuda.is_available())"
   ]
  },
  {
   "cell_type": "markdown",
   "id": "954d78a0",
   "metadata": {},
   "source": [
    "🛠️ Importing Model"
   ]
  },
  {
   "cell_type": "code",
   "execution_count": 13,
   "id": "21446089",
   "metadata": {},
   "outputs": [],
   "source": [
    "from transformers import AutoModel\n",
    "model = AutoModel.from_pretrained(model_name)"
   ]
  },
  {
   "cell_type": "code",
   "execution_count": 14,
   "id": "14725fb0",
   "metadata": {},
   "outputs": [
    {
     "name": "stdout",
     "output_type": "stream",
     "text": [
      "Tokenized input keys: dict_keys(['input_ids', 'attention_mask'])\n",
      "Input IDs shape: torch.Size([2, 52])\n"
     ]
    }
   ],
   "source": [
    "# Taking a couple of sentences from the dataset\n",
    "sample_texts = [dataset[\"train\"][i][\"text\"] for i in range(2)]\n",
    "\n",
    "# Tokenization with padding and conversion to tensors\n",
    "inputs = tokenizer(sample_texts, padding=True, truncation=True, return_tensors=\"pt\")\n",
    "\n",
    "print(\"Tokenized input keys:\", inputs.keys())\n",
    "print(\"Input IDs shape:\", inputs[\"input_ids\"].shape)\n"
   ]
  },
  {
   "cell_type": "code",
   "execution_count": 15,
   "id": "0e70ea09",
   "metadata": {},
   "outputs": [
    {
     "name": "stdout",
     "output_type": "stream",
     "text": [
      "Output keys: odict_keys(['last_hidden_state'])\n",
      "Last hidden state shape: torch.Size([2, 52, 768])\n"
     ]
    },
    {
     "data": {
      "text/plain": [
       "'[CLS] the rock is destined to be the 21st century \\' s new \" conan \" and that he \\' s going to make a splash even greater than arnold schwarzenegger, jean - claud van damme or steven segal. [SEP] [PAD] [PAD] [PAD] [PAD] [PAD]'"
      ]
     },
     "execution_count": 15,
     "metadata": {},
     "output_type": "execute_result"
    }
   ],
   "source": [
    "import torch\n",
    "\n",
    "with torch.no_grad():\n",
    "    outputs = model(**inputs)\n",
    "\n",
    "# outputs è un oggetto di tipo BaseModelOutput, contiene 'last_hidden_state'\n",
    "print(\"Output keys:\", outputs.keys())\n",
    "print(\"Last hidden state shape:\", outputs.last_hidden_state.shape)\n",
    "tokenizer.decode(inputs['input_ids'][0])"
   ]
  },
  {
   "cell_type": "markdown",
   "id": "00c79fbd",
   "metadata": {},
   "source": [
    "Notes: The first token is [CLS], which codifies informations about the sentence and will be used for feature extraction"
   ]
  },
  {
   "cell_type": "markdown",
   "id": "af21ae04",
   "metadata": {},
   "source": [
    "### 1.3 Stable Baseline"
   ]
  },
  {
   "cell_type": "markdown",
   "id": "71939e46",
   "metadata": {},
   "source": [
    "#### 1.3.A: Feature Extraction\n",
    "We will use Distilbert to extract the features from the [CLS] token"
   ]
  },
  {
   "cell_type": "markdown",
   "id": "31f09429",
   "metadata": {},
   "source": [
    "🛠️ Definition of Extraction function:"
   ]
  },
  {
   "cell_type": "code",
   "execution_count": 16,
   "id": "00e7caf5",
   "metadata": {},
   "outputs": [],
   "source": [
    "import os\n",
    "import numpy as np\n",
    "import torch\n",
    "from transformers import AutoTokenizer, AutoModel\n",
    "from torch.utils.data import DataLoader\n",
    "from tqdm import tqdm\n",
    "\n",
    "def extract_and_save_features(dataset_split, split_name, model, tokenizer, batch_size=32, save_dir=\"features\"):\n",
    "    os.makedirs(save_dir, exist_ok=True)\n",
    "    save_path = os.path.join(save_dir, f\"{split_name}_features.npz\")\n",
    "\n",
    "    if os.path.exists(save_path):\n",
    "        print(f\"Loading from cache: {save_path}\")\n",
    "        data = np.load(save_path)\n",
    "        return data[\"features\"], data[\"labels\"]\n",
    "\n",
    "    dataloader = DataLoader(dataset_split, batch_size=batch_size)\n",
    "    all_features = []\n",
    "    all_labels = []\n",
    "\n",
    "    model.eval()\n",
    "    with torch.no_grad():\n",
    "        for batch in tqdm(dataloader, desc=f\"Extraction {split_name}\"):\n",
    "            texts = batch[\"text\"]\n",
    "            labels = batch[\"label\"]\n",
    "\n",
    "            inputs = tokenizer(texts, return_tensors=\"pt\", padding=True, truncation=True)\n",
    "            outputs = model(**inputs)\n",
    "            cls_embeddings = outputs.last_hidden_state[:, 0, :].numpy()  # batch_size x hidden_size\n",
    "\n",
    "            all_features.append(cls_embeddings)\n",
    "            all_labels.extend(labels)\n",
    "\n",
    "    features = np.concatenate(all_features)\n",
    "    labels = np.array(all_labels)\n",
    "\n",
    "    np.savez(save_path, features=features, labels=labels)\n",
    "    print(f\"Salvato in {save_path}\")\n",
    "    return features, labels\n",
    "\n"
   ]
  },
  {
   "cell_type": "markdown",
   "id": "abc967e3",
   "metadata": {},
   "source": [
    "▶️ Feature Extraction"
   ]
  },
  {
   "cell_type": "code",
   "execution_count": 27,
   "id": "0d9fc75d",
   "metadata": {},
   "outputs": [
    {
     "name": "stderr",
     "output_type": "stream",
     "text": [
      "c:\\Users\\verba\\anaconda3\\lib\\site-packages\\huggingface_hub\\file_download.py:896: FutureWarning: `resume_download` is deprecated and will be removed in version 1.0.0. Downloads always resume when possible. If you want to force a new download, use `force_download=True`.\n",
      "  warnings.warn(\n",
      "Some weights of the model checkpoint at distilbert-base-uncased were not used when initializing DistilBertModel: ['vocab_transform.bias', 'vocab_layer_norm.bias', 'vocab_projector.bias', 'vocab_projector.weight', 'vocab_transform.weight', 'vocab_layer_norm.weight']\n",
      "- This IS expected if you are initializing DistilBertModel from the checkpoint of a model trained on another task or with another architecture (e.g. initializing a BertForSequenceClassification model from a BertForPreTraining model).\n",
      "- This IS NOT expected if you are initializing DistilBertModel from the checkpoint of a model that you expect to be exactly identical (initializing a BertForSequenceClassification model from a BertForSequenceClassification model).\n",
      "Estrazione train: 100%|██████████| 267/267 [03:14<00:00,  1.38it/s]\n"
     ]
    },
    {
     "name": "stdout",
     "output_type": "stream",
     "text": [
      "Salvato in features\\train_features.npz\n"
     ]
    },
    {
     "name": "stderr",
     "output_type": "stream",
     "text": [
      "Estrazione val: 100%|██████████| 34/34 [00:23<00:00,  1.43it/s]\n"
     ]
    },
    {
     "name": "stdout",
     "output_type": "stream",
     "text": [
      "Salvato in features\\val_features.npz\n"
     ]
    },
    {
     "name": "stderr",
     "output_type": "stream",
     "text": [
      "Estrazione test: 100%|██████████| 34/34 [00:27<00:00,  1.24it/s]"
     ]
    },
    {
     "name": "stdout",
     "output_type": "stream",
     "text": [
      "Salvato in features\\test_features.npz\n"
     ]
    },
    {
     "name": "stderr",
     "output_type": "stream",
     "text": [
      "\n"
     ]
    }
   ],
   "source": [
    "model_name = \"distilbert-base-uncased\"\n",
    "tokenizer = AutoTokenizer.from_pretrained(model_name)\n",
    "model = AutoModel.from_pretrained(model_name)\n",
    "\n",
    "X_train, y_train = extract_and_save_features(dataset[\"train\"], \"train\", model, tokenizer)\n",
    "X_val, y_val = extract_and_save_features(dataset[\"validation\"], \"val\", model, tokenizer)\n",
    "X_test, y_test = extract_and_save_features(dataset[\"test\"], \"test\", model, tokenizer)\n"
   ]
  },
  {
   "cell_type": "markdown",
   "id": "d7984aaf",
   "metadata": {},
   "source": [
    "#### 1.3.B: Training a Classifier"
   ]
  },
  {
   "cell_type": "markdown",
   "id": "503cc211",
   "metadata": {},
   "source": [
    "🛠️ Definition of generic evaluation function"
   ]
  },
  {
   "cell_type": "code",
   "execution_count": 29,
   "id": "7700ef38",
   "metadata": {},
   "outputs": [],
   "source": [
    "from sklearn.linear_model import LogisticRegression\n",
    "from sklearn.ensemble import RandomForestClassifier\n",
    "from sklearn.svm import SVC\n",
    "from sklearn.metrics import classification_report, accuracy_score\n",
    "\n",
    "def evaluate_classifier(clf, X_train, y_train, X_val, y_val, X_test, y_test, name=\"\"):\n",
    "    clf.fit(X_train, y_train)\n",
    "\n",
    "    val_pred = clf.predict(X_val)\n",
    "    test_pred = clf.predict(X_test)\n",
    "\n",
    "    print(f\"\\n=== {name} ===\")\n",
    "    print(\"Validation Accuracy:\", accuracy_score(y_val, val_pred))\n",
    "    print(\"Test Accuracy:\", accuracy_score(y_test, test_pred))\n",
    "    print(\"Test Classification Report:\")\n",
    "    print(classification_report(y_test, test_pred, target_names=[\"neg\", \"pos\"]))\n"
   ]
  },
  {
   "cell_type": "markdown",
   "id": "764ad098",
   "metadata": {},
   "source": [
    "▶️ Training & Evaluating with 3 classifiers: SVM, Logistic Regression, Random Forest"
   ]
  },
  {
   "cell_type": "code",
   "execution_count": 30,
   "id": "76d1af9b",
   "metadata": {},
   "outputs": [
    {
     "name": "stdout",
     "output_type": "stream",
     "text": [
      "\n",
      "=== SVM (Linear) ===\n",
      "Validation Accuracy: 0.8189493433395872\n",
      "Test Accuracy: 0.8067542213883677\n",
      "Test Classification Report:\n",
      "              precision    recall  f1-score   support\n",
      "\n",
      "         neg       0.80      0.82      0.81       533\n",
      "         pos       0.82      0.79      0.80       533\n",
      "\n",
      "    accuracy                           0.81      1066\n",
      "   macro avg       0.81      0.81      0.81      1066\n",
      "weighted avg       0.81      0.81      0.81      1066\n",
      "\n",
      "\n",
      "=== Logistic Regression ===\n",
      "Validation Accuracy: 0.8302063789868668\n",
      "Test Accuracy: 0.800187617260788\n",
      "Test Classification Report:\n",
      "              precision    recall  f1-score   support\n",
      "\n",
      "         neg       0.79      0.81      0.80       533\n",
      "         pos       0.81      0.79      0.80       533\n",
      "\n",
      "    accuracy                           0.80      1066\n",
      "   macro avg       0.80      0.80      0.80      1066\n",
      "weighted avg       0.80      0.80      0.80      1066\n",
      "\n",
      "\n",
      "=== Random Forest ===\n",
      "Validation Accuracy: 0.7917448405253283\n",
      "Test Accuracy: 0.7682926829268293\n",
      "Test Classification Report:\n",
      "              precision    recall  f1-score   support\n",
      "\n",
      "         neg       0.74      0.82      0.78       533\n",
      "         pos       0.80      0.72      0.76       533\n",
      "\n",
      "    accuracy                           0.77      1066\n",
      "   macro avg       0.77      0.77      0.77      1066\n",
      "weighted avg       0.77      0.77      0.77      1066\n",
      "\n"
     ]
    }
   ],
   "source": [
    "evaluate_classifier(SVC(kernel=\"linear\"), X_train, y_train, X_val, y_val, X_test, y_test, name=\"SVM (Linear)\")\n",
    "evaluate_classifier(LogisticRegression(max_iter=1000), X_train, y_train, X_val, y_val, X_test, y_test, name=\"Logistic Regression\")\n",
    "evaluate_classifier(RandomForestClassifier(n_estimators=100), X_train, y_train, X_val, y_val, X_test, y_test, name=\"Random Forest\")"
   ]
  },
  {
   "cell_type": "markdown",
   "id": "df081a8d",
   "metadata": {},
   "source": [
    "## Exercise 2: Fine-Tuning Distilbert\n",
    "Finetuning Distilbert to improve sentiment analysis"
   ]
  },
  {
   "cell_type": "markdown",
   "id": "45e5f94b",
   "metadata": {},
   "source": [
    "### 2.1: Token Preprocessing\n",
    "Tokenizing dataset splits to obtain token ids"
   ]
  },
  {
   "cell_type": "markdown",
   "id": "4e5fb07e",
   "metadata": {},
   "source": [
    "🛠️ Re-loading tokenizer"
   ]
  },
  {
   "cell_type": "code",
   "execution_count": 17,
   "id": "d38e4d9a",
   "metadata": {},
   "outputs": [],
   "source": [
    "from transformers import AutoTokenizer\n",
    "tokenizer = AutoTokenizer.from_pretrained(\"distilbert-base-uncased\")"
   ]
  },
  {
   "cell_type": "markdown",
   "id": "5a1b43d7",
   "metadata": {},
   "source": [
    "🛠️ Defining function to tokenize a batch"
   ]
  },
  {
   "cell_type": "code",
   "execution_count": 18,
   "id": "63082906",
   "metadata": {},
   "outputs": [],
   "source": [
    "def tokenize_batch(batch):\n",
    "    return tokenizer(batch[\"text\"], truncation=True)#, padding=\"max_length\")"
   ]
  },
  {
   "cell_type": "markdown",
   "id": "a9db9bd5",
   "metadata": {},
   "source": [
    "▶️ Tokenizing splits"
   ]
  },
  {
   "cell_type": "code",
   "execution_count": 19,
   "id": "e8694205",
   "metadata": {},
   "outputs": [
    {
     "data": {
      "application/vnd.jupyter.widget-view+json": {
       "model_id": "17ac7bb8be394e37b9ddebc3d7700b31",
       "version_major": 2,
       "version_minor": 0
      },
      "text/plain": [
       "Map:   0%|          | 0/8530 [00:00<?, ? examples/s]"
      ]
     },
     "metadata": {},
     "output_type": "display_data"
    },
    {
     "data": {
      "application/vnd.jupyter.widget-view+json": {
       "model_id": "dd60767280734502bedd20f44e65dca0",
       "version_major": 2,
       "version_minor": 0
      },
      "text/plain": [
       "Map:   0%|          | 0/1066 [00:00<?, ? examples/s]"
      ]
     },
     "metadata": {},
     "output_type": "display_data"
    },
    {
     "data": {
      "application/vnd.jupyter.widget-view+json": {
       "model_id": "bd5ce99b2e8a4829b8573881e4562218",
       "version_major": 2,
       "version_minor": 0
      },
      "text/plain": [
       "Map:   0%|          | 0/1066 [00:00<?, ? examples/s]"
      ]
     },
     "metadata": {},
     "output_type": "display_data"
    }
   ],
   "source": [
    "tokenized_dataset = dataset.map(tokenize_batch, batched=True)"
   ]
  },
  {
   "cell_type": "markdown",
   "id": "22fe00fc",
   "metadata": {},
   "source": [
    "✅ Fast check"
   ]
  },
  {
   "cell_type": "code",
   "execution_count": 37,
   "id": "e4a524ab",
   "metadata": {},
   "outputs": [
    {
     "data": {
      "text/plain": [
       "{'text': 'the rock is destined to be the 21st century\\'s new \" conan \" and that he\\'s going to make a splash even greater than arnold schwarzenegger , jean-claud van damme or steven segal .',\n",
       " 'label': 1,\n",
       " 'input_ids': [101,\n",
       "  1996,\n",
       "  2600,\n",
       "  2003,\n",
       "  16036,\n",
       "  2000,\n",
       "  2022,\n",
       "  1996,\n",
       "  7398,\n",
       "  2301,\n",
       "  1005,\n",
       "  1055,\n",
       "  2047,\n",
       "  1000,\n",
       "  16608,\n",
       "  1000,\n",
       "  1998,\n",
       "  2008,\n",
       "  2002,\n",
       "  1005,\n",
       "  1055,\n",
       "  2183,\n",
       "  2000,\n",
       "  2191,\n",
       "  1037,\n",
       "  17624,\n",
       "  2130,\n",
       "  3618,\n",
       "  2084,\n",
       "  7779,\n",
       "  29058,\n",
       "  8625,\n",
       "  13327,\n",
       "  1010,\n",
       "  3744,\n",
       "  1011,\n",
       "  18856,\n",
       "  19513,\n",
       "  3158,\n",
       "  5477,\n",
       "  4168,\n",
       "  2030,\n",
       "  7112,\n",
       "  16562,\n",
       "  2140,\n",
       "  1012,\n",
       "  102,\n",
       "  0,\n",
       "  0,\n",
       "  0,\n",
       "  0,\n",
       "  0,\n",
       "  0,\n",
       "  0,\n",
       "  0,\n",
       "  0,\n",
       "  0,\n",
       "  0,\n",
       "  0,\n",
       "  0,\n",
       "  0,\n",
       "  0,\n",
       "  0,\n",
       "  0,\n",
       "  0,\n",
       "  0,\n",
       "  0,\n",
       "  0,\n",
       "  0,\n",
       "  0,\n",
       "  0,\n",
       "  0,\n",
       "  0,\n",
       "  0,\n",
       "  0,\n",
       "  0,\n",
       "  0,\n",
       "  0,\n",
       "  0,\n",
       "  0,\n",
       "  0,\n",
       "  0,\n",
       "  0,\n",
       "  0,\n",
       "  0,\n",
       "  0,\n",
       "  0,\n",
       "  0,\n",
       "  0,\n",
       "  0,\n",
       "  0,\n",
       "  0,\n",
       "  0,\n",
       "  0,\n",
       "  0,\n",
       "  0,\n",
       "  0,\n",
       "  0,\n",
       "  0,\n",
       "  0,\n",
       "  0,\n",
       "  0,\n",
       "  0,\n",
       "  0,\n",
       "  0,\n",
       "  0,\n",
       "  0,\n",
       "  0,\n",
       "  0,\n",
       "  0,\n",
       "  0,\n",
       "  0,\n",
       "  0,\n",
       "  0,\n",
       "  0,\n",
       "  0,\n",
       "  0,\n",
       "  0,\n",
       "  0,\n",
       "  0,\n",
       "  0,\n",
       "  0,\n",
       "  0,\n",
       "  0,\n",
       "  0,\n",
       "  0,\n",
       "  0,\n",
       "  0,\n",
       "  0,\n",
       "  0,\n",
       "  0,\n",
       "  0,\n",
       "  0,\n",
       "  0,\n",
       "  0,\n",
       "  0,\n",
       "  0,\n",
       "  0,\n",
       "  0,\n",
       "  0,\n",
       "  0,\n",
       "  0,\n",
       "  0,\n",
       "  0,\n",
       "  0,\n",
       "  0,\n",
       "  0,\n",
       "  0,\n",
       "  0,\n",
       "  0,\n",
       "  0,\n",
       "  0,\n",
       "  0,\n",
       "  0,\n",
       "  0,\n",
       "  0,\n",
       "  0,\n",
       "  0,\n",
       "  0,\n",
       "  0,\n",
       "  0,\n",
       "  0,\n",
       "  0,\n",
       "  0,\n",
       "  0,\n",
       "  0,\n",
       "  0,\n",
       "  0,\n",
       "  0,\n",
       "  0,\n",
       "  0,\n",
       "  0,\n",
       "  0,\n",
       "  0,\n",
       "  0,\n",
       "  0,\n",
       "  0,\n",
       "  0,\n",
       "  0,\n",
       "  0,\n",
       "  0,\n",
       "  0,\n",
       "  0,\n",
       "  0,\n",
       "  0,\n",
       "  0,\n",
       "  0,\n",
       "  0,\n",
       "  0,\n",
       "  0,\n",
       "  0,\n",
       "  0,\n",
       "  0,\n",
       "  0,\n",
       "  0,\n",
       "  0,\n",
       "  0,\n",
       "  0,\n",
       "  0,\n",
       "  0,\n",
       "  0,\n",
       "  0,\n",
       "  0,\n",
       "  0,\n",
       "  0,\n",
       "  0,\n",
       "  0,\n",
       "  0,\n",
       "  0,\n",
       "  0,\n",
       "  0,\n",
       "  0,\n",
       "  0,\n",
       "  0,\n",
       "  0,\n",
       "  0,\n",
       "  0,\n",
       "  0,\n",
       "  0,\n",
       "  0,\n",
       "  0,\n",
       "  0,\n",
       "  0,\n",
       "  0,\n",
       "  0,\n",
       "  0,\n",
       "  0,\n",
       "  0,\n",
       "  0,\n",
       "  0,\n",
       "  0,\n",
       "  0,\n",
       "  0,\n",
       "  0,\n",
       "  0,\n",
       "  0,\n",
       "  0,\n",
       "  0,\n",
       "  0,\n",
       "  0,\n",
       "  0,\n",
       "  0,\n",
       "  0,\n",
       "  0,\n",
       "  0,\n",
       "  0,\n",
       "  0,\n",
       "  0,\n",
       "  0,\n",
       "  0,\n",
       "  0,\n",
       "  0,\n",
       "  0,\n",
       "  0,\n",
       "  0,\n",
       "  0,\n",
       "  0,\n",
       "  0,\n",
       "  0,\n",
       "  0,\n",
       "  0,\n",
       "  0,\n",
       "  0,\n",
       "  0,\n",
       "  0,\n",
       "  0,\n",
       "  0,\n",
       "  0,\n",
       "  0,\n",
       "  0,\n",
       "  0,\n",
       "  0,\n",
       "  0,\n",
       "  0,\n",
       "  0,\n",
       "  0,\n",
       "  0,\n",
       "  0,\n",
       "  0,\n",
       "  0,\n",
       "  0,\n",
       "  0,\n",
       "  0,\n",
       "  0,\n",
       "  0,\n",
       "  0,\n",
       "  0,\n",
       "  0,\n",
       "  0,\n",
       "  0,\n",
       "  0,\n",
       "  0,\n",
       "  0,\n",
       "  0,\n",
       "  0,\n",
       "  0,\n",
       "  0,\n",
       "  0,\n",
       "  0,\n",
       "  0,\n",
       "  0,\n",
       "  0,\n",
       "  0,\n",
       "  0,\n",
       "  0,\n",
       "  0,\n",
       "  0,\n",
       "  0,\n",
       "  0,\n",
       "  0,\n",
       "  0,\n",
       "  0,\n",
       "  0,\n",
       "  0,\n",
       "  0,\n",
       "  0,\n",
       "  0,\n",
       "  0,\n",
       "  0,\n",
       "  0,\n",
       "  0,\n",
       "  0,\n",
       "  0,\n",
       "  0,\n",
       "  0,\n",
       "  0,\n",
       "  0,\n",
       "  0,\n",
       "  0,\n",
       "  0,\n",
       "  0,\n",
       "  0,\n",
       "  0,\n",
       "  0,\n",
       "  0,\n",
       "  0,\n",
       "  0,\n",
       "  0,\n",
       "  0,\n",
       "  0,\n",
       "  0,\n",
       "  0,\n",
       "  0,\n",
       "  0,\n",
       "  0,\n",
       "  0,\n",
       "  0,\n",
       "  0,\n",
       "  0,\n",
       "  0,\n",
       "  0,\n",
       "  0,\n",
       "  0,\n",
       "  0,\n",
       "  0,\n",
       "  0,\n",
       "  0,\n",
       "  0,\n",
       "  0,\n",
       "  0,\n",
       "  0,\n",
       "  0,\n",
       "  0,\n",
       "  0,\n",
       "  0,\n",
       "  0,\n",
       "  0,\n",
       "  0,\n",
       "  0,\n",
       "  0,\n",
       "  0,\n",
       "  0,\n",
       "  0,\n",
       "  0,\n",
       "  0,\n",
       "  0,\n",
       "  0,\n",
       "  0,\n",
       "  0,\n",
       "  0,\n",
       "  0,\n",
       "  0,\n",
       "  0,\n",
       "  0,\n",
       "  0,\n",
       "  0,\n",
       "  0,\n",
       "  0,\n",
       "  0,\n",
       "  0,\n",
       "  0,\n",
       "  0,\n",
       "  0,\n",
       "  0,\n",
       "  0,\n",
       "  0,\n",
       "  0,\n",
       "  0,\n",
       "  0,\n",
       "  0,\n",
       "  0,\n",
       "  0,\n",
       "  0,\n",
       "  0,\n",
       "  0,\n",
       "  0,\n",
       "  0,\n",
       "  0,\n",
       "  0,\n",
       "  0,\n",
       "  0,\n",
       "  0,\n",
       "  0,\n",
       "  0,\n",
       "  0,\n",
       "  0,\n",
       "  0,\n",
       "  0,\n",
       "  0,\n",
       "  0,\n",
       "  0,\n",
       "  0,\n",
       "  0,\n",
       "  0,\n",
       "  0,\n",
       "  0,\n",
       "  0,\n",
       "  0,\n",
       "  0,\n",
       "  0,\n",
       "  0,\n",
       "  0,\n",
       "  0,\n",
       "  0,\n",
       "  0,\n",
       "  0,\n",
       "  0,\n",
       "  0,\n",
       "  0,\n",
       "  0,\n",
       "  0,\n",
       "  0,\n",
       "  0,\n",
       "  0,\n",
       "  0,\n",
       "  0,\n",
       "  0,\n",
       "  0,\n",
       "  0,\n",
       "  0,\n",
       "  0,\n",
       "  0,\n",
       "  0,\n",
       "  0,\n",
       "  0,\n",
       "  0,\n",
       "  0,\n",
       "  0,\n",
       "  0,\n",
       "  0,\n",
       "  0,\n",
       "  0,\n",
       "  0,\n",
       "  0,\n",
       "  0,\n",
       "  0,\n",
       "  0,\n",
       "  0,\n",
       "  0,\n",
       "  0,\n",
       "  0,\n",
       "  0,\n",
       "  0,\n",
       "  0,\n",
       "  0,\n",
       "  0,\n",
       "  0,\n",
       "  0,\n",
       "  0,\n",
       "  0,\n",
       "  0,\n",
       "  0,\n",
       "  0,\n",
       "  0,\n",
       "  0,\n",
       "  0,\n",
       "  0,\n",
       "  0,\n",
       "  0,\n",
       "  0,\n",
       "  0,\n",
       "  0,\n",
       "  0,\n",
       "  0,\n",
       "  0,\n",
       "  0,\n",
       "  0,\n",
       "  0,\n",
       "  0,\n",
       "  0,\n",
       "  0,\n",
       "  0,\n",
       "  0,\n",
       "  0,\n",
       "  0,\n",
       "  0,\n",
       "  0,\n",
       "  0,\n",
       "  0,\n",
       "  0,\n",
       "  0,\n",
       "  0],\n",
       " 'attention_mask': [1,\n",
       "  1,\n",
       "  1,\n",
       "  1,\n",
       "  1,\n",
       "  1,\n",
       "  1,\n",
       "  1,\n",
       "  1,\n",
       "  1,\n",
       "  1,\n",
       "  1,\n",
       "  1,\n",
       "  1,\n",
       "  1,\n",
       "  1,\n",
       "  1,\n",
       "  1,\n",
       "  1,\n",
       "  1,\n",
       "  1,\n",
       "  1,\n",
       "  1,\n",
       "  1,\n",
       "  1,\n",
       "  1,\n",
       "  1,\n",
       "  1,\n",
       "  1,\n",
       "  1,\n",
       "  1,\n",
       "  1,\n",
       "  1,\n",
       "  1,\n",
       "  1,\n",
       "  1,\n",
       "  1,\n",
       "  1,\n",
       "  1,\n",
       "  1,\n",
       "  1,\n",
       "  1,\n",
       "  1,\n",
       "  1,\n",
       "  1,\n",
       "  1,\n",
       "  1,\n",
       "  0,\n",
       "  0,\n",
       "  0,\n",
       "  0,\n",
       "  0,\n",
       "  0,\n",
       "  0,\n",
       "  0,\n",
       "  0,\n",
       "  0,\n",
       "  0,\n",
       "  0,\n",
       "  0,\n",
       "  0,\n",
       "  0,\n",
       "  0,\n",
       "  0,\n",
       "  0,\n",
       "  0,\n",
       "  0,\n",
       "  0,\n",
       "  0,\n",
       "  0,\n",
       "  0,\n",
       "  0,\n",
       "  0,\n",
       "  0,\n",
       "  0,\n",
       "  0,\n",
       "  0,\n",
       "  0,\n",
       "  0,\n",
       "  0,\n",
       "  0,\n",
       "  0,\n",
       "  0,\n",
       "  0,\n",
       "  0,\n",
       "  0,\n",
       "  0,\n",
       "  0,\n",
       "  0,\n",
       "  0,\n",
       "  0,\n",
       "  0,\n",
       "  0,\n",
       "  0,\n",
       "  0,\n",
       "  0,\n",
       "  0,\n",
       "  0,\n",
       "  0,\n",
       "  0,\n",
       "  0,\n",
       "  0,\n",
       "  0,\n",
       "  0,\n",
       "  0,\n",
       "  0,\n",
       "  0,\n",
       "  0,\n",
       "  0,\n",
       "  0,\n",
       "  0,\n",
       "  0,\n",
       "  0,\n",
       "  0,\n",
       "  0,\n",
       "  0,\n",
       "  0,\n",
       "  0,\n",
       "  0,\n",
       "  0,\n",
       "  0,\n",
       "  0,\n",
       "  0,\n",
       "  0,\n",
       "  0,\n",
       "  0,\n",
       "  0,\n",
       "  0,\n",
       "  0,\n",
       "  0,\n",
       "  0,\n",
       "  0,\n",
       "  0,\n",
       "  0,\n",
       "  0,\n",
       "  0,\n",
       "  0,\n",
       "  0,\n",
       "  0,\n",
       "  0,\n",
       "  0,\n",
       "  0,\n",
       "  0,\n",
       "  0,\n",
       "  0,\n",
       "  0,\n",
       "  0,\n",
       "  0,\n",
       "  0,\n",
       "  0,\n",
       "  0,\n",
       "  0,\n",
       "  0,\n",
       "  0,\n",
       "  0,\n",
       "  0,\n",
       "  0,\n",
       "  0,\n",
       "  0,\n",
       "  0,\n",
       "  0,\n",
       "  0,\n",
       "  0,\n",
       "  0,\n",
       "  0,\n",
       "  0,\n",
       "  0,\n",
       "  0,\n",
       "  0,\n",
       "  0,\n",
       "  0,\n",
       "  0,\n",
       "  0,\n",
       "  0,\n",
       "  0,\n",
       "  0,\n",
       "  0,\n",
       "  0,\n",
       "  0,\n",
       "  0,\n",
       "  0,\n",
       "  0,\n",
       "  0,\n",
       "  0,\n",
       "  0,\n",
       "  0,\n",
       "  0,\n",
       "  0,\n",
       "  0,\n",
       "  0,\n",
       "  0,\n",
       "  0,\n",
       "  0,\n",
       "  0,\n",
       "  0,\n",
       "  0,\n",
       "  0,\n",
       "  0,\n",
       "  0,\n",
       "  0,\n",
       "  0,\n",
       "  0,\n",
       "  0,\n",
       "  0,\n",
       "  0,\n",
       "  0,\n",
       "  0,\n",
       "  0,\n",
       "  0,\n",
       "  0,\n",
       "  0,\n",
       "  0,\n",
       "  0,\n",
       "  0,\n",
       "  0,\n",
       "  0,\n",
       "  0,\n",
       "  0,\n",
       "  0,\n",
       "  0,\n",
       "  0,\n",
       "  0,\n",
       "  0,\n",
       "  0,\n",
       "  0,\n",
       "  0,\n",
       "  0,\n",
       "  0,\n",
       "  0,\n",
       "  0,\n",
       "  0,\n",
       "  0,\n",
       "  0,\n",
       "  0,\n",
       "  0,\n",
       "  0,\n",
       "  0,\n",
       "  0,\n",
       "  0,\n",
       "  0,\n",
       "  0,\n",
       "  0,\n",
       "  0,\n",
       "  0,\n",
       "  0,\n",
       "  0,\n",
       "  0,\n",
       "  0,\n",
       "  0,\n",
       "  0,\n",
       "  0,\n",
       "  0,\n",
       "  0,\n",
       "  0,\n",
       "  0,\n",
       "  0,\n",
       "  0,\n",
       "  0,\n",
       "  0,\n",
       "  0,\n",
       "  0,\n",
       "  0,\n",
       "  0,\n",
       "  0,\n",
       "  0,\n",
       "  0,\n",
       "  0,\n",
       "  0,\n",
       "  0,\n",
       "  0,\n",
       "  0,\n",
       "  0,\n",
       "  0,\n",
       "  0,\n",
       "  0,\n",
       "  0,\n",
       "  0,\n",
       "  0,\n",
       "  0,\n",
       "  0,\n",
       "  0,\n",
       "  0,\n",
       "  0,\n",
       "  0,\n",
       "  0,\n",
       "  0,\n",
       "  0,\n",
       "  0,\n",
       "  0,\n",
       "  0,\n",
       "  0,\n",
       "  0,\n",
       "  0,\n",
       "  0,\n",
       "  0,\n",
       "  0,\n",
       "  0,\n",
       "  0,\n",
       "  0,\n",
       "  0,\n",
       "  0,\n",
       "  0,\n",
       "  0,\n",
       "  0,\n",
       "  0,\n",
       "  0,\n",
       "  0,\n",
       "  0,\n",
       "  0,\n",
       "  0,\n",
       "  0,\n",
       "  0,\n",
       "  0,\n",
       "  0,\n",
       "  0,\n",
       "  0,\n",
       "  0,\n",
       "  0,\n",
       "  0,\n",
       "  0,\n",
       "  0,\n",
       "  0,\n",
       "  0,\n",
       "  0,\n",
       "  0,\n",
       "  0,\n",
       "  0,\n",
       "  0,\n",
       "  0,\n",
       "  0,\n",
       "  0,\n",
       "  0,\n",
       "  0,\n",
       "  0,\n",
       "  0,\n",
       "  0,\n",
       "  0,\n",
       "  0,\n",
       "  0,\n",
       "  0,\n",
       "  0,\n",
       "  0,\n",
       "  0,\n",
       "  0,\n",
       "  0,\n",
       "  0,\n",
       "  0,\n",
       "  0,\n",
       "  0,\n",
       "  0,\n",
       "  0,\n",
       "  0,\n",
       "  0,\n",
       "  0,\n",
       "  0,\n",
       "  0,\n",
       "  0,\n",
       "  0,\n",
       "  0,\n",
       "  0,\n",
       "  0,\n",
       "  0,\n",
       "  0,\n",
       "  0,\n",
       "  0,\n",
       "  0,\n",
       "  0,\n",
       "  0,\n",
       "  0,\n",
       "  0,\n",
       "  0,\n",
       "  0,\n",
       "  0,\n",
       "  0,\n",
       "  0,\n",
       "  0,\n",
       "  0,\n",
       "  0,\n",
       "  0,\n",
       "  0,\n",
       "  0,\n",
       "  0,\n",
       "  0,\n",
       "  0,\n",
       "  0,\n",
       "  0,\n",
       "  0,\n",
       "  0,\n",
       "  0,\n",
       "  0,\n",
       "  0,\n",
       "  0,\n",
       "  0,\n",
       "  0,\n",
       "  0,\n",
       "  0,\n",
       "  0,\n",
       "  0,\n",
       "  0,\n",
       "  0,\n",
       "  0,\n",
       "  0,\n",
       "  0,\n",
       "  0,\n",
       "  0,\n",
       "  0,\n",
       "  0,\n",
       "  0,\n",
       "  0,\n",
       "  0,\n",
       "  0,\n",
       "  0,\n",
       "  0,\n",
       "  0,\n",
       "  0,\n",
       "  0,\n",
       "  0,\n",
       "  0,\n",
       "  0,\n",
       "  0,\n",
       "  0,\n",
       "  0,\n",
       "  0,\n",
       "  0,\n",
       "  0,\n",
       "  0,\n",
       "  0,\n",
       "  0,\n",
       "  0,\n",
       "  0,\n",
       "  0,\n",
       "  0,\n",
       "  0,\n",
       "  0,\n",
       "  0,\n",
       "  0,\n",
       "  0,\n",
       "  0,\n",
       "  0,\n",
       "  0,\n",
       "  0,\n",
       "  0,\n",
       "  0,\n",
       "  0,\n",
       "  0,\n",
       "  0,\n",
       "  0,\n",
       "  0,\n",
       "  0,\n",
       "  0,\n",
       "  0,\n",
       "  0,\n",
       "  0,\n",
       "  0,\n",
       "  0,\n",
       "  0,\n",
       "  0,\n",
       "  0,\n",
       "  0,\n",
       "  0,\n",
       "  0,\n",
       "  0,\n",
       "  0,\n",
       "  0,\n",
       "  0,\n",
       "  0,\n",
       "  0,\n",
       "  0,\n",
       "  0,\n",
       "  0,\n",
       "  0,\n",
       "  0,\n",
       "  0,\n",
       "  0,\n",
       "  0,\n",
       "  0,\n",
       "  0,\n",
       "  0,\n",
       "  0,\n",
       "  0,\n",
       "  0,\n",
       "  0,\n",
       "  0,\n",
       "  0,\n",
       "  0,\n",
       "  0,\n",
       "  0,\n",
       "  0,\n",
       "  0,\n",
       "  0,\n",
       "  0,\n",
       "  0,\n",
       "  0,\n",
       "  0,\n",
       "  0,\n",
       "  0,\n",
       "  0,\n",
       "  0,\n",
       "  0,\n",
       "  0,\n",
       "  0,\n",
       "  0,\n",
       "  0,\n",
       "  0,\n",
       "  0,\n",
       "  0,\n",
       "  0,\n",
       "  0,\n",
       "  0,\n",
       "  0,\n",
       "  0,\n",
       "  0]}"
      ]
     },
     "execution_count": 37,
     "metadata": {},
     "output_type": "execute_result"
    }
   ],
   "source": [
    "tokenized_dataset[\"train\"][0]"
   ]
  },
  {
   "cell_type": "markdown",
   "id": "310db695",
   "metadata": {},
   "source": [
    "text, label, input_ids, attention_mask are all there 👍"
   ]
  },
  {
   "cell_type": "markdown",
   "id": "fc95dfb4",
   "metadata": {},
   "source": [
    "### 2.2 Setting up the Model"
   ]
  },
  {
   "cell_type": "markdown",
   "id": "c52b1752",
   "metadata": {},
   "source": [
    "Importing model"
   ]
  },
  {
   "cell_type": "code",
   "execution_count": 20,
   "id": "7a848fab",
   "metadata": {},
   "outputs": [
    {
     "name": "stderr",
     "output_type": "stream",
     "text": [
      "Some weights of DistilBertForSequenceClassification were not initialized from the model checkpoint at distilbert-base-uncased and are newly initialized: ['classifier.bias', 'classifier.weight', 'pre_classifier.bias', 'pre_classifier.weight']\n",
      "You should probably TRAIN this model on a down-stream task to be able to use it for predictions and inference.\n"
     ]
    }
   ],
   "source": [
    "from transformers import AutoModelForSequenceClassification\n",
    "model_name = \"distilbert-base-uncased\"\n",
    "model = AutoModelForSequenceClassification.from_pretrained(\n",
    "    model_name,\n",
    "    num_labels=2  # sentiment analysis: Positive / Negative\n",
    ")\n",
    "output_dir = \"./results\"\n",
    "final_model_folder =\"./model_final\""
   ]
  },
  {
   "cell_type": "markdown",
   "id": "e3441c75",
   "metadata": {},
   "source": [
    "Defining output folders"
   ]
  },
  {
   "cell_type": "code",
   "execution_count": 49,
   "id": "e0cb34c0",
   "metadata": {},
   "outputs": [],
   "source": [
    "output_dir = \"./results\"\n",
    "final_model_folder =\"./model_final\""
   ]
  },
  {
   "cell_type": "markdown",
   "id": "cd527db2",
   "metadata": {},
   "source": [
    "Checking model structure"
   ]
  },
  {
   "cell_type": "code",
   "execution_count": 39,
   "id": "df48bf4d",
   "metadata": {},
   "outputs": [
    {
     "name": "stdout",
     "output_type": "stream",
     "text": [
      "DistilBertForSequenceClassification(\n",
      "  (distilbert): DistilBertModel(\n",
      "    (embeddings): Embeddings(\n",
      "      (word_embeddings): Embedding(30522, 768, padding_idx=0)\n",
      "      (position_embeddings): Embedding(512, 768)\n",
      "      (LayerNorm): LayerNorm((768,), eps=1e-12, elementwise_affine=True)\n",
      "      (dropout): Dropout(p=0.1, inplace=False)\n",
      "    )\n",
      "    (transformer): Transformer(\n",
      "      (layer): ModuleList(\n",
      "        (0-5): 6 x TransformerBlock(\n",
      "          (attention): MultiHeadSelfAttention(\n",
      "            (dropout): Dropout(p=0.1, inplace=False)\n",
      "            (q_lin): Linear(in_features=768, out_features=768, bias=True)\n",
      "            (k_lin): Linear(in_features=768, out_features=768, bias=True)\n",
      "            (v_lin): Linear(in_features=768, out_features=768, bias=True)\n",
      "            (out_lin): Linear(in_features=768, out_features=768, bias=True)\n",
      "          )\n",
      "          (sa_layer_norm): LayerNorm((768,), eps=1e-12, elementwise_affine=True)\n",
      "          (ffn): FFN(\n",
      "            (dropout): Dropout(p=0.1, inplace=False)\n",
      "            (lin1): Linear(in_features=768, out_features=3072, bias=True)\n",
      "            (lin2): Linear(in_features=3072, out_features=768, bias=True)\n",
      "            (activation): GELUActivation()\n",
      "          )\n",
      "          (output_layer_norm): LayerNorm((768,), eps=1e-12, elementwise_affine=True)\n",
      "        )\n",
      "      )\n",
      "    )\n",
      "  )\n",
      "  (pre_classifier): Linear(in_features=768, out_features=768, bias=True)\n",
      "  (classifier): Linear(in_features=768, out_features=2, bias=True)\n",
      "  (dropout): Dropout(p=0.2, inplace=False)\n",
      ")\n"
     ]
    }
   ],
   "source": [
    "print(model)"
   ]
  },
  {
   "cell_type": "markdown",
   "id": "19387fe1",
   "metadata": {},
   "source": [
    "Checking training parameters"
   ]
  },
  {
   "cell_type": "code",
   "execution_count": 40,
   "id": "f3491d15",
   "metadata": {},
   "outputs": [
    {
     "name": "stdout",
     "output_type": "stream",
     "text": [
      "distilbert.embeddings.word_embeddings.weight\n",
      "distilbert.embeddings.position_embeddings.weight\n",
      "distilbert.embeddings.LayerNorm.weight\n",
      "distilbert.embeddings.LayerNorm.bias\n",
      "distilbert.transformer.layer.0.attention.q_lin.weight\n",
      "distilbert.transformer.layer.0.attention.q_lin.bias\n",
      "distilbert.transformer.layer.0.attention.k_lin.weight\n",
      "distilbert.transformer.layer.0.attention.k_lin.bias\n",
      "distilbert.transformer.layer.0.attention.v_lin.weight\n",
      "distilbert.transformer.layer.0.attention.v_lin.bias\n",
      "distilbert.transformer.layer.0.attention.out_lin.weight\n",
      "distilbert.transformer.layer.0.attention.out_lin.bias\n",
      "distilbert.transformer.layer.0.sa_layer_norm.weight\n",
      "distilbert.transformer.layer.0.sa_layer_norm.bias\n",
      "distilbert.transformer.layer.0.ffn.lin1.weight\n",
      "distilbert.transformer.layer.0.ffn.lin1.bias\n",
      "distilbert.transformer.layer.0.ffn.lin2.weight\n",
      "distilbert.transformer.layer.0.ffn.lin2.bias\n",
      "distilbert.transformer.layer.0.output_layer_norm.weight\n",
      "distilbert.transformer.layer.0.output_layer_norm.bias\n",
      "distilbert.transformer.layer.1.attention.q_lin.weight\n",
      "distilbert.transformer.layer.1.attention.q_lin.bias\n",
      "distilbert.transformer.layer.1.attention.k_lin.weight\n",
      "distilbert.transformer.layer.1.attention.k_lin.bias\n",
      "distilbert.transformer.layer.1.attention.v_lin.weight\n",
      "distilbert.transformer.layer.1.attention.v_lin.bias\n",
      "distilbert.transformer.layer.1.attention.out_lin.weight\n",
      "distilbert.transformer.layer.1.attention.out_lin.bias\n",
      "distilbert.transformer.layer.1.sa_layer_norm.weight\n",
      "distilbert.transformer.layer.1.sa_layer_norm.bias\n",
      "distilbert.transformer.layer.1.ffn.lin1.weight\n",
      "distilbert.transformer.layer.1.ffn.lin1.bias\n",
      "distilbert.transformer.layer.1.ffn.lin2.weight\n",
      "distilbert.transformer.layer.1.ffn.lin2.bias\n",
      "distilbert.transformer.layer.1.output_layer_norm.weight\n",
      "distilbert.transformer.layer.1.output_layer_norm.bias\n",
      "distilbert.transformer.layer.2.attention.q_lin.weight\n",
      "distilbert.transformer.layer.2.attention.q_lin.bias\n",
      "distilbert.transformer.layer.2.attention.k_lin.weight\n",
      "distilbert.transformer.layer.2.attention.k_lin.bias\n",
      "distilbert.transformer.layer.2.attention.v_lin.weight\n",
      "distilbert.transformer.layer.2.attention.v_lin.bias\n",
      "distilbert.transformer.layer.2.attention.out_lin.weight\n",
      "distilbert.transformer.layer.2.attention.out_lin.bias\n",
      "distilbert.transformer.layer.2.sa_layer_norm.weight\n",
      "distilbert.transformer.layer.2.sa_layer_norm.bias\n",
      "distilbert.transformer.layer.2.ffn.lin1.weight\n",
      "distilbert.transformer.layer.2.ffn.lin1.bias\n",
      "distilbert.transformer.layer.2.ffn.lin2.weight\n",
      "distilbert.transformer.layer.2.ffn.lin2.bias\n",
      "distilbert.transformer.layer.2.output_layer_norm.weight\n",
      "distilbert.transformer.layer.2.output_layer_norm.bias\n",
      "distilbert.transformer.layer.3.attention.q_lin.weight\n",
      "distilbert.transformer.layer.3.attention.q_lin.bias\n",
      "distilbert.transformer.layer.3.attention.k_lin.weight\n",
      "distilbert.transformer.layer.3.attention.k_lin.bias\n",
      "distilbert.transformer.layer.3.attention.v_lin.weight\n",
      "distilbert.transformer.layer.3.attention.v_lin.bias\n",
      "distilbert.transformer.layer.3.attention.out_lin.weight\n",
      "distilbert.transformer.layer.3.attention.out_lin.bias\n",
      "distilbert.transformer.layer.3.sa_layer_norm.weight\n",
      "distilbert.transformer.layer.3.sa_layer_norm.bias\n",
      "distilbert.transformer.layer.3.ffn.lin1.weight\n",
      "distilbert.transformer.layer.3.ffn.lin1.bias\n",
      "distilbert.transformer.layer.3.ffn.lin2.weight\n",
      "distilbert.transformer.layer.3.ffn.lin2.bias\n",
      "distilbert.transformer.layer.3.output_layer_norm.weight\n",
      "distilbert.transformer.layer.3.output_layer_norm.bias\n",
      "distilbert.transformer.layer.4.attention.q_lin.weight\n",
      "distilbert.transformer.layer.4.attention.q_lin.bias\n",
      "distilbert.transformer.layer.4.attention.k_lin.weight\n",
      "distilbert.transformer.layer.4.attention.k_lin.bias\n",
      "distilbert.transformer.layer.4.attention.v_lin.weight\n",
      "distilbert.transformer.layer.4.attention.v_lin.bias\n",
      "distilbert.transformer.layer.4.attention.out_lin.weight\n",
      "distilbert.transformer.layer.4.attention.out_lin.bias\n",
      "distilbert.transformer.layer.4.sa_layer_norm.weight\n",
      "distilbert.transformer.layer.4.sa_layer_norm.bias\n",
      "distilbert.transformer.layer.4.ffn.lin1.weight\n",
      "distilbert.transformer.layer.4.ffn.lin1.bias\n",
      "distilbert.transformer.layer.4.ffn.lin2.weight\n",
      "distilbert.transformer.layer.4.ffn.lin2.bias\n",
      "distilbert.transformer.layer.4.output_layer_norm.weight\n",
      "distilbert.transformer.layer.4.output_layer_norm.bias\n",
      "distilbert.transformer.layer.5.attention.q_lin.weight\n",
      "distilbert.transformer.layer.5.attention.q_lin.bias\n",
      "distilbert.transformer.layer.5.attention.k_lin.weight\n",
      "distilbert.transformer.layer.5.attention.k_lin.bias\n",
      "distilbert.transformer.layer.5.attention.v_lin.weight\n",
      "distilbert.transformer.layer.5.attention.v_lin.bias\n",
      "distilbert.transformer.layer.5.attention.out_lin.weight\n",
      "distilbert.transformer.layer.5.attention.out_lin.bias\n",
      "distilbert.transformer.layer.5.sa_layer_norm.weight\n",
      "distilbert.transformer.layer.5.sa_layer_norm.bias\n",
      "distilbert.transformer.layer.5.ffn.lin1.weight\n",
      "distilbert.transformer.layer.5.ffn.lin1.bias\n",
      "distilbert.transformer.layer.5.ffn.lin2.weight\n",
      "distilbert.transformer.layer.5.ffn.lin2.bias\n",
      "distilbert.transformer.layer.5.output_layer_norm.weight\n",
      "distilbert.transformer.layer.5.output_layer_norm.bias\n",
      "pre_classifier.weight\n",
      "pre_classifier.bias\n",
      "classifier.weight\n",
      "classifier.bias\n"
     ]
    }
   ],
   "source": [
    "for name, param in model.named_parameters():\n",
    "    if param.requires_grad:\n",
    "        print(name)"
   ]
  },
  {
   "cell_type": "markdown",
   "id": "0d8e2fa4",
   "metadata": {},
   "source": [
    "Optional: freezing Distilbert layers"
   ]
  },
  {
   "cell_type": "code",
   "execution_count": null,
   "id": "ffa668ed",
   "metadata": {},
   "outputs": [],
   "source": [
    "for param in model.distilbert.parameters():\n",
    "    param.requires_grad = False"
   ]
  },
  {
   "cell_type": "markdown",
   "id": "adeb3592",
   "metadata": {},
   "source": [
    "### 2.3 Finetuning Distilbert"
   ]
  },
  {
   "cell_type": "markdown",
   "id": "2437055c",
   "metadata": {},
   "source": [
    "🛠️ Imports"
   ]
  },
  {
   "cell_type": "code",
   "execution_count": 21,
   "id": "ca8a3664",
   "metadata": {},
   "outputs": [],
   "source": [
    "from transformers import Trainer, TrainingArguments, DataCollatorWithPadding\n",
    "from sklearn.metrics import accuracy_score, precision_recall_fscore_support\n",
    "import numpy as np"
   ]
  },
  {
   "cell_type": "markdown",
   "id": "169043a4",
   "metadata": {},
   "source": [
    "🛠️ Definition of function to calculate metrics"
   ]
  },
  {
   "cell_type": "code",
   "execution_count": 37,
   "id": "326eb75c",
   "metadata": {},
   "outputs": [],
   "source": [
    "def compute_metrics(eval_pred):\n",
    "    logits, labels = eval_pred\n",
    "    preds = np.argmax(logits, axis=1)\n",
    "\n",
    "    acc = accuracy_score(labels, preds)\n",
    "    precision, recall, f1, _ = precision_recall_fscore_support(labels, preds, average='binary')\n",
    "\n",
    "    return {\n",
    "        'accuracy': acc,\n",
    "        'precision': precision,\n",
    "        'recall': recall,\n",
    "        'f1': f1\n",
    "    }\n"
   ]
  },
  {
   "cell_type": "markdown",
   "id": "8190c348",
   "metadata": {},
   "source": [
    "🛠️ Construction of DataCollatorWithPadding"
   ]
  },
  {
   "cell_type": "code",
   "execution_count": 24,
   "id": "051f306b",
   "metadata": {},
   "outputs": [],
   "source": [
    "from transformers import DataCollatorWithPadding\n",
    "\n",
    "data_collator = DataCollatorWithPadding(tokenizer=tokenizer)"
   ]
  },
  {
   "cell_type": "markdown",
   "id": "5f7ddb83",
   "metadata": {},
   "source": [
    "⚙️ Training Settings\n",
    "\n",
    "⚠️ some parameters name changes depending on `transformers` version, like eval_strategy / evaluation_strategy"
   ]
  },
  {
   "cell_type": "code",
   "execution_count": 40,
   "id": "edb135b0",
   "metadata": {},
   "outputs": [],
   "source": [
    "training_args = TrainingArguments(\n",
    "    output_dir=output_dir,\n",
    "    eval_strategy=\"epoch\",\n",
    "    save_strategy=\"epoch\",\n",
    "    logging_strategy=\"epoch\",\n",
    "    per_device_train_batch_size=16,\n",
    "    per_device_eval_batch_size=16,\n",
    "    num_train_epochs=4,\n",
    "    learning_rate=2e-5,\n",
    "    weight_decay=0.01,\n",
    "    load_best_model_at_end=True,\n",
    "    metric_for_best_model=\"f1\",\n",
    "    logging_dir=\"./logs\",\n",
    ")\n"
   ]
  },
  {
   "cell_type": "markdown",
   "id": "e41ae2e6",
   "metadata": {},
   "source": [
    "⚙️ Trainer"
   ]
  },
  {
   "cell_type": "code",
   "execution_count": 46,
   "id": "7bc0c06e",
   "metadata": {},
   "outputs": [],
   "source": [
    "trainer = Trainer(\n",
    "    model=model,\n",
    "    args=training_args,\n",
    "    train_dataset=tokenized_dataset[\"train\"],\n",
    "    eval_dataset=tokenized_dataset[\"validation\"],\n",
    "    tokenizer=tokenizer,\n",
    "    data_collator=data_collator,\n",
    "    compute_metrics=compute_metrics\n",
    ")\n"
   ]
  },
  {
   "cell_type": "markdown",
   "id": "9b7cacf5",
   "metadata": {},
   "source": [
    "🏋️‍♂️ Training"
   ]
  },
  {
   "cell_type": "code",
   "execution_count": 47,
   "id": "2ce76102",
   "metadata": {},
   "outputs": [
    {
     "name": "stderr",
     "output_type": "stream",
     "text": [
      "The following columns in the training set don't have a corresponding argument in `DistilBertForSequenceClassification.forward` and have been ignored: text. If text are not expected by `DistilBertForSequenceClassification.forward`,  you can safely ignore this message.\n",
      "c:\\Users\\verba\\anaconda3\\lib\\site-packages\\transformers\\optimization.py:306: FutureWarning: This implementation of AdamW is deprecated and will be removed in a future version. Use the PyTorch implementation torch.optim.AdamW instead, or set `no_deprecation_warning=True` to disable this warning\n",
      "  warnings.warn(\n",
      "***** Running training *****\n",
      "  Num examples = 8530\n",
      "  Num Epochs = 4\n",
      "  Instantaneous batch size per device = 16\n",
      "  Total train batch size (w. parallel, distributed & accumulation) = 16\n",
      "  Gradient Accumulation steps = 1\n",
      "  Total optimization steps = 2136\n",
      "  Number of trainable parameters = 66955010\n",
      "Automatic Weights & Biases logging enabled, to disable set os.environ[\"WANDB_DISABLED\"] = \"true\"\n",
      "\u001b[34m\u001b[1mwandb\u001b[0m: Currently logged in as: \u001b[33mdavidcopper\u001b[0m (\u001b[33mdavid_copper\u001b[0m) to \u001b[32mhttps://api.wandb.ai\u001b[0m. Use \u001b[1m`wandb login --relogin`\u001b[0m to force relogin\n"
     ]
    },
    {
     "data": {
      "text/html": [
       "Tracking run with wandb version 0.19.10"
      ],
      "text/plain": [
       "<IPython.core.display.HTML object>"
      ]
     },
     "metadata": {},
     "output_type": "display_data"
    },
    {
     "data": {
      "text/html": [
       "Run data is saved locally in <code>c:\\Users\\verba\\Documents\\Projects\\msc-ai-deep-learning-applications-lab3\\wandb\\run-20250503_192543-ppne9ctl</code>"
      ],
      "text/plain": [
       "<IPython.core.display.HTML object>"
      ]
     },
     "metadata": {},
     "output_type": "display_data"
    },
    {
     "data": {
      "text/html": [
       "Syncing run <strong><a href='https://wandb.ai/david_copper/huggingface/runs/ppne9ctl' target=\"_blank\">./results</a></strong> to <a href='https://wandb.ai/david_copper/huggingface' target=\"_blank\">Weights & Biases</a> (<a href='https://wandb.me/developer-guide' target=\"_blank\">docs</a>)<br>"
      ],
      "text/plain": [
       "<IPython.core.display.HTML object>"
      ]
     },
     "metadata": {},
     "output_type": "display_data"
    },
    {
     "data": {
      "text/html": [
       " View project at <a href='https://wandb.ai/david_copper/huggingface' target=\"_blank\">https://wandb.ai/david_copper/huggingface</a>"
      ],
      "text/plain": [
       "<IPython.core.display.HTML object>"
      ]
     },
     "metadata": {},
     "output_type": "display_data"
    },
    {
     "data": {
      "text/html": [
       " View run at <a href='https://wandb.ai/david_copper/huggingface/runs/ppne9ctl' target=\"_blank\">https://wandb.ai/david_copper/huggingface/runs/ppne9ctl</a>"
      ],
      "text/plain": [
       "<IPython.core.display.HTML object>"
      ]
     },
     "metadata": {},
     "output_type": "display_data"
    },
    {
     "data": {
      "application/vnd.jupyter.widget-view+json": {
       "model_id": "d059d0456bdc4523b4f3a30feacc5b20",
       "version_major": 2,
       "version_minor": 0
      },
      "text/plain": [
       "  0%|          | 0/2136 [00:00<?, ?it/s]"
      ]
     },
     "metadata": {},
     "output_type": "display_data"
    },
    {
     "name": "stderr",
     "output_type": "stream",
     "text": [
      "You're using a DistilBertTokenizerFast tokenizer. Please note that with a fast tokenizer, using the `__call__` method is faster than using a method to encode the text followed by a call to the `pad` method to get a padded encoding.\n",
      "The following columns in the evaluation set don't have a corresponding argument in `DistilBertForSequenceClassification.forward` and have been ignored: text. If text are not expected by `DistilBertForSequenceClassification.forward`,  you can safely ignore this message.\n",
      "***** Running Evaluation *****\n",
      "  Num examples = 1066\n",
      "  Batch size = 16\n"
     ]
    },
    {
     "name": "stdout",
     "output_type": "stream",
     "text": [
      "{'loss': 0.4137, 'learning_rate': 1.5000000000000002e-05, 'epoch': 1.0}\n"
     ]
    },
    {
     "data": {
      "application/vnd.jupyter.widget-view+json": {
       "model_id": "aa51742c57a54de2b3eaea99cb65b085",
       "version_major": 2,
       "version_minor": 0
      },
      "text/plain": [
       "  0%|          | 0/67 [00:00<?, ?it/s]"
      ]
     },
     "metadata": {},
     "output_type": "display_data"
    },
    {
     "name": "stderr",
     "output_type": "stream",
     "text": [
      "Saving model checkpoint to ./results\\checkpoint-534\n",
      "Configuration saved in ./results\\checkpoint-534\\config.json\n"
     ]
    },
    {
     "name": "stdout",
     "output_type": "stream",
     "text": [
      "{'eval_loss': 0.34864893555641174, 'eval_accuracy': 0.8414634146341463, 'eval_precision': 0.8238434163701067, 'eval_recall': 0.8686679174484052, 'eval_f1': 0.8456621004566209, 'eval_runtime': 21.641, 'eval_samples_per_second': 49.258, 'eval_steps_per_second': 3.096, 'epoch': 1.0}\n"
     ]
    },
    {
     "name": "stderr",
     "output_type": "stream",
     "text": [
      "Model weights saved in ./results\\checkpoint-534\\pytorch_model.bin\n",
      "tokenizer config file saved in ./results\\checkpoint-534\\tokenizer_config.json\n",
      "Special tokens file saved in ./results\\checkpoint-534\\special_tokens_map.json\n",
      "The following columns in the evaluation set don't have a corresponding argument in `DistilBertForSequenceClassification.forward` and have been ignored: text. If text are not expected by `DistilBertForSequenceClassification.forward`,  you can safely ignore this message.\n",
      "***** Running Evaluation *****\n",
      "  Num examples = 1066\n",
      "  Batch size = 16\n"
     ]
    },
    {
     "name": "stdout",
     "output_type": "stream",
     "text": [
      "{'loss': 0.2461, 'learning_rate': 1e-05, 'epoch': 2.0}\n"
     ]
    },
    {
     "data": {
      "application/vnd.jupyter.widget-view+json": {
       "model_id": "954c7e87633f4bbeb7c9db05499c918f",
       "version_major": 2,
       "version_minor": 0
      },
      "text/plain": [
       "  0%|          | 0/67 [00:00<?, ?it/s]"
      ]
     },
     "metadata": {},
     "output_type": "display_data"
    },
    {
     "name": "stderr",
     "output_type": "stream",
     "text": [
      "Saving model checkpoint to ./results\\checkpoint-1068\n",
      "Configuration saved in ./results\\checkpoint-1068\\config.json\n"
     ]
    },
    {
     "name": "stdout",
     "output_type": "stream",
     "text": [
      "{'eval_loss': 0.4055609703063965, 'eval_accuracy': 0.8461538461538461, 'eval_precision': 0.8231173380035026, 'eval_recall': 0.8818011257035647, 'eval_f1': 0.8514492753623187, 'eval_runtime': 21.4523, 'eval_samples_per_second': 49.692, 'eval_steps_per_second': 3.123, 'epoch': 2.0}\n"
     ]
    },
    {
     "name": "stderr",
     "output_type": "stream",
     "text": [
      "Model weights saved in ./results\\checkpoint-1068\\pytorch_model.bin\n",
      "tokenizer config file saved in ./results\\checkpoint-1068\\tokenizer_config.json\n",
      "Special tokens file saved in ./results\\checkpoint-1068\\special_tokens_map.json\n",
      "The following columns in the evaluation set don't have a corresponding argument in `DistilBertForSequenceClassification.forward` and have been ignored: text. If text are not expected by `DistilBertForSequenceClassification.forward`,  you can safely ignore this message.\n",
      "***** Running Evaluation *****\n",
      "  Num examples = 1066\n",
      "  Batch size = 16\n"
     ]
    },
    {
     "name": "stdout",
     "output_type": "stream",
     "text": [
      "{'loss': 0.1485, 'learning_rate': 5e-06, 'epoch': 3.0}\n"
     ]
    },
    {
     "data": {
      "application/vnd.jupyter.widget-view+json": {
       "model_id": "cb44a6d09b9347ea928e1e5c55298bd3",
       "version_major": 2,
       "version_minor": 0
      },
      "text/plain": [
       "  0%|          | 0/67 [00:00<?, ?it/s]"
      ]
     },
     "metadata": {},
     "output_type": "display_data"
    },
    {
     "name": "stderr",
     "output_type": "stream",
     "text": [
      "Saving model checkpoint to ./results\\checkpoint-1602\n",
      "Configuration saved in ./results\\checkpoint-1602\\config.json\n"
     ]
    },
    {
     "name": "stdout",
     "output_type": "stream",
     "text": [
      "{'eval_loss': 0.514951765537262, 'eval_accuracy': 0.8414634146341463, 'eval_precision': 0.8408239700374532, 'eval_recall': 0.8424015009380863, 'eval_f1': 0.8416119962511716, 'eval_runtime': 22.3658, 'eval_samples_per_second': 47.662, 'eval_steps_per_second': 2.996, 'epoch': 3.0}\n"
     ]
    },
    {
     "name": "stderr",
     "output_type": "stream",
     "text": [
      "Model weights saved in ./results\\checkpoint-1602\\pytorch_model.bin\n",
      "tokenizer config file saved in ./results\\checkpoint-1602\\tokenizer_config.json\n",
      "Special tokens file saved in ./results\\checkpoint-1602\\special_tokens_map.json\n",
      "The following columns in the evaluation set don't have a corresponding argument in `DistilBertForSequenceClassification.forward` and have been ignored: text. If text are not expected by `DistilBertForSequenceClassification.forward`,  you can safely ignore this message.\n",
      "***** Running Evaluation *****\n",
      "  Num examples = 1066\n",
      "  Batch size = 16\n"
     ]
    },
    {
     "name": "stdout",
     "output_type": "stream",
     "text": [
      "{'loss': 0.0891, 'learning_rate': 0.0, 'epoch': 4.0}\n"
     ]
    },
    {
     "data": {
      "application/vnd.jupyter.widget-view+json": {
       "model_id": "f33f58b38e104d9dbdef0fcaffe4dc4e",
       "version_major": 2,
       "version_minor": 0
      },
      "text/plain": [
       "  0%|          | 0/67 [00:00<?, ?it/s]"
      ]
     },
     "metadata": {},
     "output_type": "display_data"
    },
    {
     "name": "stderr",
     "output_type": "stream",
     "text": [
      "Saving model checkpoint to ./results\\checkpoint-2136\n",
      "Configuration saved in ./results\\checkpoint-2136\\config.json\n"
     ]
    },
    {
     "name": "stdout",
     "output_type": "stream",
     "text": [
      "{'eval_loss': 0.6358879208564758, 'eval_accuracy': 0.8470919324577861, 'eval_precision': 0.8517110266159695, 'eval_recall': 0.8405253283302064, 'eval_f1': 0.846081208687441, 'eval_runtime': 22.5126, 'eval_samples_per_second': 47.351, 'eval_steps_per_second': 2.976, 'epoch': 4.0}\n"
     ]
    },
    {
     "name": "stderr",
     "output_type": "stream",
     "text": [
      "Model weights saved in ./results\\checkpoint-2136\\pytorch_model.bin\n",
      "tokenizer config file saved in ./results\\checkpoint-2136\\tokenizer_config.json\n",
      "Special tokens file saved in ./results\\checkpoint-2136\\special_tokens_map.json\n",
      "\n",
      "\n",
      "Training completed. Do not forget to share your model on huggingface.co/models =)\n",
      "\n",
      "\n",
      "Loading best model from ./results\\checkpoint-1068 (score: 0.8514492753623187).\n"
     ]
    },
    {
     "name": "stdout",
     "output_type": "stream",
     "text": [
      "{'train_runtime': 16084.618, 'train_samples_per_second': 2.121, 'train_steps_per_second': 0.133, 'train_loss': 0.2243819593936763, 'epoch': 4.0}\n"
     ]
    },
    {
     "data": {
      "text/plain": [
       "TrainOutput(global_step=2136, training_loss=0.2243819593936763, metrics={'train_runtime': 16084.618, 'train_samples_per_second': 2.121, 'train_steps_per_second': 0.133, 'train_loss': 0.2243819593936763, 'epoch': 4.0})"
      ]
     },
     "execution_count": 47,
     "metadata": {},
     "output_type": "execute_result"
    }
   ],
   "source": [
    "trainer.train()"
   ]
  },
  {
   "cell_type": "markdown",
   "id": "6baa50d1",
   "metadata": {},
   "source": [
    "⌛ *a few moments later* 🌸☀️🍂❄️ (4 Hours 28 minutes on Nvidia Geforce RTX 3070 Laptop)"
   ]
  },
  {
   "cell_type": "markdown",
   "id": "cf75b66c",
   "metadata": {},
   "source": [
    "💾 Saving model and tokenizer"
   ]
  },
  {
   "cell_type": "code",
   "execution_count": 50,
   "id": "f370b2e0",
   "metadata": {},
   "outputs": [
    {
     "name": "stderr",
     "output_type": "stream",
     "text": [
      "Saving model checkpoint to ./model_final\n",
      "Configuration saved in ./model_final\\config.json\n",
      "Model weights saved in ./model_final\\pytorch_model.bin\n",
      "tokenizer config file saved in ./model_final\\tokenizer_config.json\n",
      "Special tokens file saved in ./model_final\\special_tokens_map.json\n",
      "tokenizer config file saved in ./model_final\\tokenizer_config.json\n",
      "Special tokens file saved in ./model_final\\special_tokens_map.json\n"
     ]
    },
    {
     "data": {
      "text/plain": [
       "('./model_final\\\\tokenizer_config.json',\n",
       " './model_final\\\\special_tokens_map.json',\n",
       " './model_final\\\\vocab.txt',\n",
       " './model_final\\\\added_tokens.json',\n",
       " './model_final\\\\tokenizer.json')"
      ]
     },
     "execution_count": 50,
     "metadata": {},
     "output_type": "execute_result"
    }
   ],
   "source": [
    "trainer.save_model(final_model_folder)         # Saving final model\n",
    "tokenizer.save_pretrained(final_model_folder)  # Saving tokenizer"
   ]
  },
  {
   "cell_type": "markdown",
   "id": "9da5969c",
   "metadata": {},
   "source": [
    "📊 Showing results"
   ]
  },
  {
   "cell_type": "code",
   "execution_count": null,
   "id": "cc84b585",
   "metadata": {},
   "outputs": [
    {
     "name": "stderr",
     "output_type": "stream",
     "text": [
      "The following columns in the evaluation set don't have a corresponding argument in `DistilBertForSequenceClassification.forward` and have been ignored: text. If text are not expected by `DistilBertForSequenceClassification.forward`,  you can safely ignore this message.\n",
      "***** Running Evaluation *****\n",
      "  Num examples = 1066\n",
      "  Batch size = 16\n"
     ]
    },
    {
     "data": {
      "application/vnd.jupyter.widget-view+json": {
       "model_id": "211be88fdfa14bf2937052a750c7d6de",
       "version_major": 2,
       "version_minor": 0
      },
      "text/plain": [
       "  0%|          | 0/67 [00:00<?, ?it/s]"
      ]
     },
     "metadata": {},
     "output_type": "display_data"
    },
    {
     "name": "stdout",
     "output_type": "stream",
     "text": [
      "{'eval_loss': 0.4561544358730316, 'eval_accuracy': 0.8386491557223265, 'eval_precision': 0.8264014466546112, 'eval_recall': 0.8574108818011257, 'eval_f1': 0.841620626151013, 'eval_runtime': 21.8922, 'eval_samples_per_second': 48.693, 'eval_steps_per_second': 3.06, 'epoch': 4.0}\n"
     ]
    }
   ],
   "source": [
    "results = trainer.evaluate(tokenized_dataset[\"test\"])\n",
    "for k, v in results.items():\n",
    "    print(f\"{k}: {v:.4f}\")"
   ]
  },
  {
   "cell_type": "markdown",
   "id": "c8a35fda",
   "metadata": {},
   "source": [
    "📊 Plot"
   ]
  },
  {
   "cell_type": "code",
   "execution_count": null,
   "id": "eb0b1156",
   "metadata": {},
   "outputs": [
    {
     "data": {
      "image/png": "[encoded data removed]",
      "text/plain": [
       "<Figure size 1000x600 with 1 Axes>"
      ]
     },
     "metadata": {},
     "output_type": "display_data"
    }
   ],
   "source": [
    "metrics = list(results.keys())[:5]\n",
    "values = list(results.values())[:5]\n",
    "# Histogram\n",
    "plt.figure(figsize=(10,6))\n",
    "plt.bar(metrics, values, color='skyblue')\n",
    "plt.ylim(0, 1)  # Limiti dell'asse y tra 0 e 1\n",
    "plt.title('Evaluation')\n",
    "plt.ylabel('Values')\n",
    "plt.xlabel('Metrics')\n",
    "plt.grid(axis='y', linestyle='--', alpha=0.7)\n",
    "# Plot\n",
    "plt.show()"
   ]
  },
  {
   "cell_type": "markdown",
   "id": "a02079d9",
   "metadata": {},
   "source": [
    "(Optional) Loading model and tokenizer from file"
   ]
  },
  {
   "cell_type": "code",
   "execution_count": null,
   "id": "2c1a7e41",
   "metadata": {},
   "outputs": [],
   "source": [
    "from transformers import AutoModelForSequenceClassification, AutoTokenizer\n",
    "\n",
    "model = AutoModelForSequenceClassification.from_pretrained(\"./model_final\")\n",
    "tokenizer = AutoTokenizer.from_pretrained(\"./model_final\")"
   ]
  },
  {
   "cell_type": "markdown",
   "id": "052b55f3",
   "metadata": {},
   "source": [
    "(Optional) Training from Checkpoint"
   ]
  },
  {
   "cell_type": "code",
   "execution_count": null,
   "id": "1fab14c7",
   "metadata": {},
   "outputs": [],
   "source": [
    "checkpoint_path = \"/results/checkpoint\"\n",
    "trainer.train(resume_from_checkpoint=checkpoint_path)"
   ]
  },
  {
   "cell_type": "markdown",
   "id": "3bbe7151",
   "metadata": {},
   "source": [
    "## Exercise 3"
   ]
  },
  {
   "cell_type": "markdown",
   "id": "10e6415f",
   "metadata": {},
   "source": [
    "### 3.1 Efficient Finetuning for Sentiment Analysis"
   ]
  },
  {
   "cell_type": "markdown",
   "id": "979fe139",
   "metadata": {},
   "source": [
    "#### 3.1.A Finetuning of the Classifier\n",
    "Freezing Distilbert parameters and training only the classifier. The only trained layers are:\n",
    "```\n",
    "(pre_classifier): Linear(in_features=768, out_features=768, bias=True)\n",
    "(classifier): Linear(in_features=768, out_features=2, bias=True)\n",
    "(dropout): Dropout(p=0.2, inplace=False)\n",
    "```\n",
    "Each layer inside `(distilbert): DistilBertModel( ... )` will be frozen"
   ]
  },
  {
   "cell_type": "markdown",
   "id": "be485079",
   "metadata": {},
   "source": [
    "Re-importing the model and freezing distilbert layers:"
   ]
  },
  {
   "cell_type": "code",
   "execution_count": 25,
   "id": "1b74fd9b",
   "metadata": {},
   "outputs": [
    {
     "name": "stderr",
     "output_type": "stream",
     "text": [
      "Some weights of DistilBertForSequenceClassification were not initialized from the model checkpoint at distilbert-base-uncased and are newly initialized: ['classifier.bias', 'classifier.weight', 'pre_classifier.bias', 'pre_classifier.weight']\n",
      "You should probably TRAIN this model on a down-stream task to be able to use it for predictions and inference.\n"
     ]
    }
   ],
   "source": [
    "# Importing the model\n",
    "from transformers import AutoModelForSequenceClassification\n",
    "model_name = \"distilbert-base-uncased\"\n",
    "model = AutoModelForSequenceClassification.from_pretrained(\n",
    "    model_name,\n",
    "    num_labels=2  # sentiment analysis: Positive / Negative\n",
    ")\n",
    "# Freezing Distilbert layers\n",
    "for param in model.distilbert.parameters():\n",
    "    param.requires_grad = False\n",
    "output_dir = \"./results_31A\"\n",
    "final_model_folder =\"./model_final_31A\""
   ]
  },
  {
   "cell_type": "markdown",
   "id": "9356b1e4",
   "metadata": {},
   "source": [
    "➡️ Re-Run Exercise 2.3 (or Run the code below if you don't want to ovewrite the output)"
   ]
  },
  {
   "cell_type": "code",
   "execution_count": null,
   "id": "2fdff302",
   "metadata": {},
   "outputs": [],
   "source": [
    "from transformers import Trainer, TrainingArguments, DataCollatorWithPadding\n",
    "from sklearn.metrics import accuracy_score, precision_recall_fscore_support\n",
    "import numpy as np\n",
    "def compute_metrics(eval_pred):\n",
    "    logits, labels = eval_pred\n",
    "    preds = np.argmax(logits, axis=1)\n",
    "\n",
    "    acc = accuracy_score(labels, preds)\n",
    "    precision, recall, f1, _ = precision_recall_fscore_support(labels, preds, average='binary')\n",
    "\n",
    "    return {\n",
    "        'accuracy': acc,\n",
    "        'precision': precision,\n",
    "        'recall': recall,\n",
    "        'f1': f1\n",
    "    }\n",
    "from transformers import DataCollatorWithPadding\n",
    "data_collator = DataCollatorWithPadding(tokenizer=tokenizer)\n",
    "training_args = TrainingArguments(\n",
    "    output_dir=output_dir,\n",
    "    evaluation_strategy=\"epoch\",\n",
    "    save_strategy=\"epoch\",\n",
    "    logging_strategy=\"epoch\",\n",
    "    per_device_train_batch_size=16,\n",
    "    per_device_eval_batch_size=16,\n",
    "    num_train_epochs=4,\n",
    "    learning_rate=2e-5,\n",
    "    weight_decay=0.01,\n",
    "    load_best_model_at_end=True,\n",
    "    metric_for_best_model=\"f1\",\n",
    "    logging_dir=\"./logs\",\n",
    ")\n",
    "trainer = Trainer(\n",
    "    model=model,\n",
    "    args=training_args,\n",
    "    train_dataset=tokenized_dataset[\"train\"],\n",
    "    eval_dataset=tokenized_dataset[\"validation\"],\n",
    "    tokenizer=tokenizer,\n",
    "    data_collator=data_collator,\n",
    "    compute_metrics=compute_metrics\n",
    ")\n",
    "trainer.train()\n",
    "trainer.save_model(final_model_folder)         # Saving final model\n",
    "tokenizer.save_pretrained(final_model_folder)  # Saving tokenizer\n",
    "results = trainer.evaluate(tokenized_dataset[\"test\"])\n",
    "print(results)"
   ]
  },
  {
   "cell_type": "markdown",
   "id": "62a32fd6",
   "metadata": {},
   "source": [
    "#### 3.1.B Efficient Finetuning with LoRA\n"
   ]
  },
  {
   "cell_type": "markdown",
   "id": "57581b38",
   "metadata": {},
   "source": [
    "⚙️ Installing PEFT library and updating transformes library"
   ]
  },
  {
   "cell_type": "code",
   "execution_count": null,
   "id": "6ea1c228",
   "metadata": {},
   "outputs": [],
   "source": [
    "!pip install peft accelerate\n",
    "#!pip install --upgrade transformers\n",
    "#pip install transformers -U"
   ]
  },
  {
   "cell_type": "markdown",
   "id": "43618645",
   "metadata": {},
   "source": [
    "Configuring the model with LoRA "
   ]
  },
  {
   "cell_type": "code",
   "execution_count": 27,
   "id": "527e40cc",
   "metadata": {},
   "outputs": [
    {
     "name": "stderr",
     "output_type": "stream",
     "text": [
      "Some weights of DistilBertForSequenceClassification were not initialized from the model checkpoint at distilbert-base-uncased and are newly initialized: ['classifier.bias', 'classifier.weight', 'pre_classifier.bias', 'pre_classifier.weight']\n",
      "You should probably TRAIN this model on a down-stream task to be able to use it for predictions and inference.\n"
     ]
    },
    {
     "name": "stdout",
     "output_type": "stream",
     "text": [
      "trainable params: 739,586 || all params: 67,694,596 || trainable%: 1.0925\n"
     ]
    }
   ],
   "source": [
    "from peft import get_peft_model, LoraConfig, TaskType\n",
    "from transformers import AutoModelForSequenceClassification\n",
    "\n",
    "# Loading Base model\n",
    "model = AutoModelForSequenceClassification.from_pretrained(\"distilbert-base-uncased\", num_labels=2)\n",
    "\n",
    "# Configuring LoRA\n",
    "lora_config = LoraConfig(\n",
    "    task_type=TaskType.SEQ_CLS,\n",
    "    inference_mode=False,\n",
    "    r=8,               # rank\n",
    "    lora_alpha=32,\n",
    "    lora_dropout=0.1,\n",
    "    target_modules=[\"q_lin\", \"v_lin\"] # Distilbert modules to be finetuned: linear layer for query and value\n",
    ")\n",
    "\n",
    "# Applying PEFT\n",
    "from peft import prepare_model_for_kbit_training\n",
    "model = get_peft_model(model, lora_config)\n",
    "\n",
    "# Viewing trainable parameters\n",
    "model.print_trainable_parameters()\n"
   ]
  },
  {
   "cell_type": "markdown",
   "id": "9dc962c0",
   "metadata": {},
   "source": [
    "🏋️‍♂️ Training"
   ]
  },
  {
   "cell_type": "code",
   "execution_count": 42,
   "id": "da1f7708",
   "metadata": {},
   "outputs": [
    {
     "name": "stderr",
     "output_type": "stream",
     "text": [
      "C:\\Users\\verba\\AppData\\Local\\Temp\\ipykernel_14348\\549484505.py:16: FutureWarning: `tokenizer` is deprecated and will be removed in version 5.0.0 for `Trainer.__init__`. Use `processing_class` instead.\n",
      "  trainer = Trainer(\n",
      "No label_names provided for model class `PeftModelForSequenceClassification`. Since `PeftModel` hides base models input arguments, if label_names is not given, label_names can't be set automatically within `Trainer`. Note that empty label_names list will be used instead.\n",
      "\u001b[34m\u001b[1mwandb\u001b[0m: \u001b[33mWARNING\u001b[0m The `run_name` is currently set to the same value as `TrainingArguments.output_dir`. If this was not intended, please specify a different run name by setting the `TrainingArguments.run_name` parameter.\n",
      "\u001b[34m\u001b[1mwandb\u001b[0m: Currently logged in as: \u001b[33mdavidcopper\u001b[0m (\u001b[33mdavid_copper\u001b[0m) to \u001b[32mhttps://api.wandb.ai\u001b[0m. Use \u001b[1m`wandb login --relogin`\u001b[0m to force relogin\n"
     ]
    },
    {
     "data": {
      "text/html": [
       "Tracking run with wandb version 0.19.10"
      ],
      "text/plain": [
       "<IPython.core.display.HTML object>"
      ]
     },
     "metadata": {},
     "output_type": "display_data"
    },
    {
     "data": {
      "text/html": [
       "Run data is saved locally in <code>c:\\Users\\verba\\Documents\\Projects\\msc-ai-deep-learning-applications-lab3\\wandb\\run-20250504_003358-avz1791y</code>"
      ],
      "text/plain": [
       "<IPython.core.display.HTML object>"
      ]
     },
     "metadata": {},
     "output_type": "display_data"
    },
    {
     "data": {
      "text/html": [
       "Syncing run <strong><a href='https://wandb.ai/david_copper/huggingface/runs/avz1791y' target=\"_blank\">./checkpoints_lora</a></strong> to <a href='https://wandb.ai/david_copper/huggingface' target=\"_blank\">Weights & Biases</a> (<a href='https://wandb.me/developer-guide' target=\"_blank\">docs</a>)<br>"
      ],
      "text/plain": [
       "<IPython.core.display.HTML object>"
      ]
     },
     "metadata": {},
     "output_type": "display_data"
    },
    {
     "data": {
      "text/html": [
       " View project at <a href='https://wandb.ai/david_copper/huggingface' target=\"_blank\">https://wandb.ai/david_copper/huggingface</a>"
      ],
      "text/plain": [
       "<IPython.core.display.HTML object>"
      ]
     },
     "metadata": {},
     "output_type": "display_data"
    },
    {
     "data": {
      "text/html": [
       " View run at <a href='https://wandb.ai/david_copper/huggingface/runs/avz1791y' target=\"_blank\">https://wandb.ai/david_copper/huggingface/runs/avz1791y</a>"
      ],
      "text/plain": [
       "<IPython.core.display.HTML object>"
      ]
     },
     "metadata": {},
     "output_type": "display_data"
    },
    {
     "data": {
      "text/html": [
       "\n",
       "    <div>\n",
       "      \n",
       "      <progress value='2136' max='2136' style='width:300px; height:20px; vertical-align: middle;'></progress>\n",
       "      [2136/2136 01:21, Epoch 4/4]\n",
       "    </div>\n",
       "    <table border=\"1\" class=\"dataframe\">\n",
       "  <thead>\n",
       " <tr style=\"text-align: left;\">\n",
       "      <th>Epoch</th>\n",
       "      <th>Training Loss</th>\n",
       "      <th>Validation Loss</th>\n",
       "      <th>Accuracy</th>\n",
       "      <th>Precision</th>\n",
       "      <th>Recall</th>\n",
       "      <th>F1</th>\n",
       "    </tr>\n",
       "  </thead>\n",
       "  <tbody>\n",
       "    <tr>\n",
       "      <td>1</td>\n",
       "      <td>0.530100</td>\n",
       "      <td>0.421038</td>\n",
       "      <td>0.813321</td>\n",
       "      <td>0.827451</td>\n",
       "      <td>0.791745</td>\n",
       "      <td>0.809204</td>\n",
       "    </tr>\n",
       "    <tr>\n",
       "      <td>2</td>\n",
       "      <td>0.419900</td>\n",
       "      <td>0.399305</td>\n",
       "      <td>0.820826</td>\n",
       "      <td>0.850410</td>\n",
       "      <td>0.778612</td>\n",
       "      <td>0.812929</td>\n",
       "    </tr>\n",
       "    <tr>\n",
       "      <td>3</td>\n",
       "      <td>0.410700</td>\n",
       "      <td>0.391148</td>\n",
       "      <td>0.826454</td>\n",
       "      <td>0.834615</td>\n",
       "      <td>0.814259</td>\n",
       "      <td>0.824311</td>\n",
       "    </tr>\n",
       "    <tr>\n",
       "      <td>4</td>\n",
       "      <td>0.401400</td>\n",
       "      <td>0.388679</td>\n",
       "      <td>0.827392</td>\n",
       "      <td>0.840156</td>\n",
       "      <td>0.808630</td>\n",
       "      <td>0.824092</td>\n",
       "    </tr>\n",
       "  </tbody>\n",
       "</table><p>"
      ],
      "text/plain": [
       "<IPython.core.display.HTML object>"
      ]
     },
     "metadata": {},
     "output_type": "display_data"
    },
    {
     "data": {
      "text/plain": [
       "TrainOutput(global_step=2136, training_loss=0.4365020387628105, metrics={'train_runtime': 90.8443, 'train_samples_per_second': 375.588, 'train_steps_per_second': 23.513, 'total_flos': 438037285337040.0, 'train_loss': 0.4365020387628105, 'epoch': 4.0})"
      ]
     },
     "execution_count": 42,
     "metadata": {},
     "output_type": "execute_result"
    }
   ],
   "source": [
    "# Training arguments\n",
    "training_args = TrainingArguments(\n",
    "    output_dir=\"./checkpoints_lora\",\n",
    "    eval_strategy=\"epoch\",\n",
    "    save_strategy=\"epoch\",\n",
    "    save_total_limit=2,\n",
    "    logging_dir=\"./logs_lora\",\n",
    "    learning_rate=2e-5,\n",
    "    per_device_train_batch_size=16,\n",
    "    per_device_eval_batch_size=32,\n",
    "    num_train_epochs=4,\n",
    "    weight_decay=0.01,\n",
    "    load_best_model_at_end=True,\n",
    "    metric_for_best_model=\"f1\"\n",
    ")\n",
    "trainer = Trainer(\n",
    "    model=model,\n",
    "    args=training_args,\n",
    "    train_dataset=tokenized_dataset[\"train\"],\n",
    "    eval_dataset=tokenized_dataset[\"validation\"],\n",
    "    tokenizer=tokenizer,\n",
    "    data_collator=data_collator,\n",
    "    compute_metrics=compute_metrics\n",
    ")\n",
    "\n",
    "trainer.train()\n"
   ]
  },
  {
   "cell_type": "markdown",
   "id": "e45c61cc",
   "metadata": {},
   "source": [
    "Saving the trained model"
   ]
  },
  {
   "cell_type": "code",
   "execution_count": 43,
   "id": "39e6a31c",
   "metadata": {},
   "outputs": [
    {
     "data": {
      "text/plain": [
       "('./distilbert_lora\\\\tokenizer_config.json',\n",
       " './distilbert_lora\\\\special_tokens_map.json',\n",
       " './distilbert_lora\\\\vocab.txt',\n",
       " './distilbert_lora\\\\added_tokens.json',\n",
       " './distilbert_lora\\\\tokenizer.json')"
      ]
     },
     "execution_count": 43,
     "metadata": {},
     "output_type": "execute_result"
    }
   ],
   "source": [
    "trainer.save_model(\"./distilbert_lora\")\n",
    "tokenizer.save_pretrained(\"./distilbert_lora\")"
   ]
  },
  {
   "cell_type": "code",
   "execution_count": null,
   "id": "9598ce5b",
   "metadata": {},
   "outputs": [
    {
     "data": {
      "text/html": [
       "\n",
       "    <div>\n",
       "      \n",
       "      <progress value='34' max='34' style='width:300px; height:20px; vertical-align: middle;'></progress>\n",
       "      [34/34 00:00]\n",
       "    </div>\n",
       "    "
      ],
      "text/plain": [
       "<IPython.core.display.HTML object>"
      ]
     },
     "metadata": {},
     "output_type": "display_data"
    },
    {
     "name": "stdout",
     "output_type": "stream",
     "text": [
      "eval_loss: 0.4150\n",
      "eval_accuracy: 0.8133\n",
      "eval_precision: 0.8151\n",
      "eval_recall: 0.8105\n",
      "eval_f1: 0.8128\n",
      "eval_runtime: 1.0360\n",
      "eval_samples_per_second: 1029.0020\n",
      "eval_steps_per_second: 32.8200\n",
      "epoch: 4.0000\n"
     ]
    }
   ],
   "source": [
    "results = trainer.evaluate(tokenized_dataset[\"test\"])\n",
    "for k, v in results.items():\n",
    "    print(f\"{k}: {v:.4f}\")"
   ]
  },
  {
   "cell_type": "markdown",
   "id": "74a46d20",
   "metadata": {},
   "source": [
    "Full Finetuning:\n",
    "```\n",
    "eval_loss: 0.46\n",
    "eval_accuracy: 0.84\n",
    "eval_precision: 0.83\n",
    "eval_recall: 0.86\n",
    "eval_f1: 0.84\n",
    "eval_runtime: 21.89\n",
    "eval_samples_per_second: 48.69\n",
    "eval_steps_per_second: 3.06\n",
    "epoch: 4\n",
    "Time: 4 Hours 28 Minutes\n",
    "```\n",
    "\n",
    "LoRA:\n",
    "```\n",
    "eval_loss: 0.42\n",
    "eval_accuracy: 0.81\n",
    "eval_precision: 0.81\n",
    "eval_recall: 0.81\n",
    "eval_f1: 0.81\n",
    "eval_runtime: 1.04\n",
    "eval_samples_per_second: 1029.00\n",
    "eval_steps_per_second: 32.82\n",
    "epoch: 4\n",
    "Time: 1 Minute 21 Seconds\n",
    "```"
   ]
  },
  {
   "cell_type": "code",
   "execution_count": 47,
   "id": "d654aacf",
   "metadata": {},
   "outputs": [
    {
     "data": {
      "image/png": "[encoded data removed]",
      "text/plain": [
       "<Figure size 1000x600 with 1 Axes>"
      ]
     },
     "metadata": {},
     "output_type": "display_data"
    }
   ],
   "source": [
    "from matplotlib import pyplot as plt\n",
    "metrics = list(results.keys())[:5]\n",
    "values = list(results.values())[:5]\n",
    "# Histogram\n",
    "plt.figure(figsize=(10,6))\n",
    "plt.bar(metrics, values, color='skyblue')\n",
    "plt.ylim(0, 1)  # Limiti dell'asse y tra 0 e 1\n",
    "plt.title('Evaluation')\n",
    "plt.ylabel('Values')\n",
    "plt.xlabel('Metrics')\n",
    "plt.grid(axis='y', linestyle='--', alpha=0.7)\n",
    "# Plot\n",
    "plt.show()"
   ]
  },
  {
   "cell_type": "markdown",
   "id": "633a43a8",
   "metadata": {},
   "source": [
    "### 3.2 Finetuning a CLIP Model"
   ]
  },
  {
   "cell_type": "markdown",
   "id": "1c53ebec",
   "metadata": {},
   "source": [
    "Loading ImagiNette dataset"
   ]
  },
  {
   "cell_type": "code",
   "execution_count": 50,
   "id": "a4a77590",
   "metadata": {},
   "outputs": [
    {
     "data": {
      "application/vnd.jupyter.widget-view+json": {
       "model_id": "36535982a25d47308edaa4ea0cb57491",
       "version_major": 2,
       "version_minor": 0
      },
      "text/plain": [
       "0000.parquet:   0%|          | 0.00/74.8M [00:00<?, ?B/s]"
      ]
     },
     "metadata": {},
     "output_type": "display_data"
    },
    {
     "data": {
      "application/vnd.jupyter.widget-view+json": {
       "model_id": "14a6e887c62d44128edd0af355a3c114",
       "version_major": 2,
       "version_minor": 0
      },
      "text/plain": [
       "0000.parquet:   0%|          | 0.00/31.0M [00:00<?, ?B/s]"
      ]
     },
     "metadata": {},
     "output_type": "display_data"
    },
    {
     "data": {
      "application/vnd.jupyter.widget-view+json": {
       "model_id": "4a9c31bd7a904acc965395995d7f432d",
       "version_major": 2,
       "version_minor": 0
      },
      "text/plain": [
       "Generating train split:   0%|          | 0/9469 [00:00<?, ? examples/s]"
      ]
     },
     "metadata": {},
     "output_type": "display_data"
    },
    {
     "data": {
      "application/vnd.jupyter.widget-view+json": {
       "model_id": "2463b6bfcfd84c6eaec8cb49d3726444",
       "version_major": 2,
       "version_minor": 0
      },
      "text/plain": [
       "Generating validation split:   0%|          | 0/3925 [00:00<?, ? examples/s]"
      ]
     },
     "metadata": {},
     "output_type": "display_data"
    }
   ],
   "source": [
    "from datasets import load_dataset\n",
    "dataset = load_dataset(\"frgfm/imagenette\", '160px', split=\"train[:10%]\")  # [:1%]"
   ]
  },
  {
   "cell_type": "code",
   "execution_count": null,
   "id": "817624ae",
   "metadata": {},
   "outputs": [
    {
     "name": "stdout",
     "output_type": "stream",
     "text": [
      "⚡ Valutazione zero-shot CLIP su ImageNette...\n"
     ]
    },
    {
     "name": "stderr",
     "output_type": "stream",
     "text": [
      "100%|██████████| 196/196 [00:55<00:00,  3.54it/s]"
     ]
    },
    {
     "name": "stdout",
     "output_type": "stream",
     "text": [
      "\n",
      "🎯 Zero-shot Accuracy: 0.9796\n"
     ]
    },
    {
     "name": "stderr",
     "output_type": "stream",
     "text": [
      "\n"
     ]
    }
   ],
   "source": [
    "from transformers import CLIPProcessor, CLIPModel\n",
    "from datasets import load_dataset\n",
    "from PIL import Image\n",
    "import torch\n",
    "from tqdm import tqdm\n",
    "import numpy as np\n",
    "\n",
    "# 1. Loading CLIP\n",
    "model_name = \"openai/clip-vit-base-patch16\"\n",
    "model = CLIPModel.from_pretrained(model_name)\n",
    "processor = CLIPProcessor.from_pretrained(model_name)\n",
    "\n",
    "# 2. Loading subset of ImageNette\n",
    "dataset = load_dataset(\"frgfm/imagenette\", '160px', split=\"validation[:5%]\")  # Taking just 5% of the validation set for a fast test\n",
    "dataset = dataset.shuffle(seed=42)\n",
    "\n",
    "# 3. ImageNette classes (textual format for CLIP)\n",
    "class_prompts = [\n",
    "    \"a photo of a tench\", \"a photo of an English springer\", \"a photo of a cassette player\",\n",
    "    \"a photo of a chain saw\", \"a photo of a church\", \"a photo of a French horn\",\n",
    "    \"a photo of a garbage truck\", \"a photo of a gas pump\", \"a photo of a golf ball\",\n",
    "    \"a photo of a parachute\"\n",
    "]\n",
    "\n",
    "# 4. Function to classify an image with CLIP\n",
    "def classify_image(image):\n",
    "    inputs = processor(images=image, text=class_prompts, return_tensors=\"pt\", padding=True)\n",
    "    outputs = model(**inputs)\n",
    "    logits = outputs.logits_per_image  # shape (1, num_classes)\n",
    "    probs = logits.softmax(dim=1).squeeze()\n",
    "    return torch.argmax(probs).item()\n",
    "\n",
    "# 5. Evaluation\n",
    "correct = 0\n",
    "total = 0\n",
    "\n",
    "print(\"⚡ Valutazione zero-shot CLIP su ImageNette...\")\n",
    "\n",
    "for sample in tqdm(dataset):\n",
    "    image = sample[\"image\"]\n",
    "    true_label = sample[\"label\"]  # Indice intero da 0 a 9\n",
    "\n",
    "    pred_label = classify_image(image)\n",
    "    if pred_label == true_label:\n",
    "        correct += 1\n",
    "    total += 1\n",
    "\n",
    "accuracy = correct / total\n",
    "print(f\"\\n🎯 Zero-shot Accuracy: {accuracy:.4f}\")\n"
   ]
  },
  {
   "cell_type": "markdown",
   "id": "1924ea89",
   "metadata": {},
   "source": [
    "It performs with ~98% Accuracy Zero-shot on ImageNet! OFC, it's pretrained on ImageNet."
   ]
  }
 ],
 "metadata": {
  "kernelspec": {
   "display_name": "base",
   "language": "python",
   "name": "python3"
  },
  "language_info": {
   "codemirror_mode": {
    "name": "ipython",
    "version": 3
   },
   "file_extension": ".py",
   "mimetype": "text/x-python",
   "name": "python",
   "nbconvert_exporter": "python",
   "pygments_lexer": "ipython3",
   "version": "3.10.9"
  }
 },
 "nbformat": 4,
 "nbformat_minor": 5
}
