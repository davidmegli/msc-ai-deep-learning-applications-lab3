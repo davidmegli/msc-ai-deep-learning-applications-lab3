{
 "cells": [
  {
   "cell_type": "markdown",
   "id": "64563719",
   "metadata": {},
   "source": [
    "## Working with Transformers in the HuggingFace Ecosystem\n",
    "\n",
    "In this laboratory exercise we will learn how to work with the HuggingFace ecosystem to adapt models to new tasks. As you will see, much of what is required is *investigation* into the inner-workings of the HuggingFace abstractions. With a little work, a little trial-and-error, it is fairly easy to get a working adaptation pipeline up and running.\n",
    "### Exercise 1: Sentiment Analysis\n",
    "#### 1.1\n",
    "Installing Libraries"
   ]
  },
  {
   "cell_type": "code",
   "execution_count": null,
   "id": "fcc02f33",
   "metadata": {},
   "outputs": [],
   "source": [
    "!pip install datasets"
   ]
  },
  {
   "cell_type": "markdown",
   "id": "72191898",
   "metadata": {},
   "source": [
    "Loading Dataset"
   ]
  },
  {
   "cell_type": "code",
   "execution_count": 6,
   "id": "e8763331",
   "metadata": {},
   "outputs": [],
   "source": [
    "from datasets import load_dataset\n",
    "dataset_id = \"rotten_tomatoes\"\n",
    "# Il dataset Rotten Tomatoes è disponibile con il nome \"rotten_tomatoes\"\n",
    "dataset = load_dataset(dataset_id)"
   ]
  },
  {
   "cell_type": "code",
   "execution_count": 7,
   "id": "cc3b591f",
   "metadata": {},
   "outputs": [
    {
     "name": "stdout",
     "output_type": "stream",
     "text": [
      "DatasetDict({\n",
      "    train: Dataset({\n",
      "        features: ['text', 'label'],\n",
      "        num_rows: 8530\n",
      "    })\n",
      "    validation: Dataset({\n",
      "        features: ['text', 'label'],\n",
      "        num_rows: 1066\n",
      "    })\n",
      "    test: Dataset({\n",
      "        features: ['text', 'label'],\n",
      "        num_rows: 1066\n",
      "    })\n",
      "})\n",
      "{'text': 'the rock is destined to be the 21st century\\'s new \" conan \" and that he\\'s going to make a splash even greater than arnold schwarzenegger , jean-claud van damme or steven segal .', 'label': 1}\n"
     ]
    }
   ],
   "source": [
    "print(dataset)  # Dataset split: train, validation, test\n",
    "# One training example\n",
    "print(dataset[\"train\"][0])"
   ]
  },
  {
   "cell_type": "markdown",
   "id": "a261662a",
   "metadata": {},
   "source": [
    "Notes: The split is 80% Train, 10% Validation, 10% Test ✅\n",
    "\n",
    "Notes: The rock rocks 🗿"
   ]
  },
  {
   "cell_type": "code",
   "execution_count": 8,
   "id": "235c488c",
   "metadata": {},
   "outputs": [
    {
     "name": "stdout",
     "output_type": "stream",
     "text": [
      "{'text': Value(dtype='string', id=None), 'label': ClassLabel(names=['neg', 'pos'], id=None)}\n",
      "Counter({1: 4265, 0: 4265})\n"
     ]
    }
   ],
   "source": [
    "# Showing dataset features\n",
    "print(dataset[\"train\"].features)\n",
    "# Showing instances per class (label: 0 = ❌, 1 = ✅)\n",
    "from collections import Counter\n",
    "\n",
    "labels = [example[\"label\"] for example in dataset[\"train\"]]\n",
    "print(Counter(labels))\n"
   ]
  },
  {
   "cell_type": "markdown",
   "id": "33f95f82",
   "metadata": {},
   "source": [
    "Notes: Dataset is perfectly balanced ✅"
   ]
  },
  {
   "cell_type": "markdown",
   "id": "15dd4ac4",
   "metadata": {},
   "source": [
    "### 1.2: Pre-trained BERT\n",
    "Importing Distilbert tokenizer"
   ]
  },
  {
   "cell_type": "code",
   "execution_count": 22,
   "id": "65aaca68",
   "metadata": {},
   "outputs": [
    {
     "data": {
      "text/plain": [
       "PreTrainedTokenizerFast(name_or_path='distilbert-base-uncased', vocab_size=30522, model_max_len=512, is_fast=True, padding_side='right', truncation_side='right', special_tokens={'unk_token': '[UNK]', 'sep_token': '[SEP]', 'pad_token': '[PAD]', 'cls_token': '[CLS]', 'mask_token': '[MASK]'})"
      ]
     },
     "execution_count": 22,
     "metadata": {},
     "output_type": "execute_result"
    }
   ],
   "source": [
    "from transformers import AutoTokenizer\n",
    "\n",
    "model_name = \"distilbert-base-uncased\"\n",
    "# Loading tokenizer\n",
    "tokenizer = AutoTokenizer.from_pretrained(model_name)\n",
    "tokenizer"
   ]
  },
  {
   "cell_type": "markdown",
   "id": "7186771c",
   "metadata": {},
   "source": [
    "Visualizing sentences length distribution"
   ]
  },
  {
   "cell_type": "code",
   "execution_count": 10,
   "id": "19fde57a",
   "metadata": {},
   "outputs": [
    {
     "data": {
      "image/png": "[encoded data removed]",
      "text/plain": [
       "<Figure size 640x480 with 1 Axes>"
      ]
     },
     "metadata": {},
     "output_type": "display_data"
    }
   ],
   "source": [
    "import matplotlib.pyplot as plt\n",
    "# Calculating length (number of tokens)\n",
    "lengths = [len(tokenizer(example[\"text\"])[\"input_ids\"]) for example in dataset[\"train\"]]#.select(range(1000))]\n",
    "\n",
    "# Visualizing sentences length distribution\n",
    "plt.hist(lengths, bins=30, color=\"skyblue\")\n",
    "plt.title(\"Distribuzione delle lunghezze delle frasi (in token)\")\n",
    "plt.xlabel(\"Numero di token\")\n",
    "plt.ylabel(\"Frequenza\")\n",
    "plt.show()\n"
   ]
  },
  {
   "cell_type": "markdown",
   "id": "5b4c6e75",
   "metadata": {},
   "source": [
    "Notes: Length of sentences varies alot"
   ]
  },
  {
   "cell_type": "markdown",
   "id": "0e55720b",
   "metadata": {},
   "source": [
    "⚠️ Installing PyTorch"
   ]
  },
  {
   "cell_type": "code",
   "execution_count": null,
   "id": "3939200b",
   "metadata": {},
   "outputs": [],
   "source": [
    "import subprocess\n",
    "cmd = [\n",
    "    \"pip3\", \"install\",\n",
    "    \"torch\", \"torchvision\", \"torchaudio\",\n",
    "    \"--index-url\", \"https://download.pytorch.org/whl/cu118\"\n",
    "]\n",
    "process = subprocess.Popen(cmd, stdout=subprocess.PIPE, stderr=subprocess.STDOUT, text=True)\n",
    "for line in process.stdout:\n",
    "    print(line, end='')\n",
    "process.wait()"
   ]
  },
  {
   "cell_type": "markdown",
   "id": "d38e9cb6",
   "metadata": {},
   "source": [
    "⚙️ Checking if PyTorch is correctly installed and CUDA is available"
   ]
  },
  {
   "cell_type": "code",
   "execution_count": null,
   "id": "e01be548",
   "metadata": {},
   "outputs": [
    {
     "name": "stdout",
     "output_type": "stream",
     "text": [
      "2.7.0+cu118\n",
      "True\n"
     ]
    }
   ],
   "source": [
    "import torch\n",
    "print(torch.__version__)\n",
    "print(torch.cuda.is_available())"
   ]
  },
  {
   "cell_type": "markdown",
   "id": "954d78a0",
   "metadata": {},
   "source": [
    "Importing Model"
   ]
  },
  {
   "cell_type": "code",
   "execution_count": 14,
   "id": "21446089",
   "metadata": {},
   "outputs": [
    {
     "name": "stderr",
     "output_type": "stream",
     "text": [
      "c:\\Users\\verba\\anaconda3\\lib\\site-packages\\huggingface_hub\\file_download.py:896: FutureWarning: `resume_download` is deprecated and will be removed in version 1.0.0. Downloads always resume when possible. If you want to force a new download, use `force_download=True`.\n",
      "  warnings.warn(\n",
      "Xet Storage is enabled for this repo, but the 'hf_xet' package is not installed. Falling back to regular HTTP download. For better performance, install the package with: `pip install huggingface_hub[hf_xet]` or `pip install hf_xet`\n"
     ]
    },
    {
     "data": {
      "application/vnd.jupyter.widget-view+json": {
       "model_id": "d8d43374b08d4bd0b6ce737b3aabf241",
       "version_major": 2,
       "version_minor": 0
      },
      "text/plain": [
       "pytorch_model.bin:   0%|          | 0.00/268M [00:00<?, ?B/s]"
      ]
     },
     "metadata": {},
     "output_type": "display_data"
    },
    {
     "name": "stderr",
     "output_type": "stream",
     "text": [
      "c:\\Users\\verba\\anaconda3\\lib\\site-packages\\huggingface_hub\\file_download.py:144: UserWarning: `huggingface_hub` cache-system uses symlinks by default to efficiently store duplicated files but your machine does not support them in C:\\Users\\verba\\.cache\\huggingface\\hub\\models--distilbert-base-uncased. Caching files will still work but in a degraded version that might require more space on your disk. This warning can be disabled by setting the `HF_HUB_DISABLE_SYMLINKS_WARNING` environment variable. For more details, see https://huggingface.co/docs/huggingface_hub/how-to-cache#limitations.\n",
      "To support symlinks on Windows, you either need to activate Developer Mode or to run Python as an administrator. In order to activate developer mode, see this article: https://docs.microsoft.com/en-us/windows/apps/get-started/enable-your-device-for-development\n",
      "  warnings.warn(message)\n",
      "Some weights of the model checkpoint at distilbert-base-uncased were not used when initializing DistilBertModel: ['vocab_transform.bias', 'vocab_layer_norm.bias', 'vocab_projector.bias', 'vocab_projector.weight', 'vocab_transform.weight', 'vocab_layer_norm.weight']\n",
      "- This IS expected if you are initializing DistilBertModel from the checkpoint of a model trained on another task or with another architecture (e.g. initializing a BertForSequenceClassification model from a BertForPreTraining model).\n",
      "- This IS NOT expected if you are initializing DistilBertModel from the checkpoint of a model that you expect to be exactly identical (initializing a BertForSequenceClassification model from a BertForSequenceClassification model).\n"
     ]
    }
   ],
   "source": [
    "from transformers import AutoModel\n",
    "model = AutoModel.from_pretrained(model_name)"
   ]
  },
  {
   "cell_type": "code",
   "execution_count": null,
   "id": "14725fb0",
   "metadata": {},
   "outputs": [
    {
     "name": "stdout",
     "output_type": "stream",
     "text": [
      "Tokenized input keys: dict_keys(['input_ids', 'attention_mask'])\n",
      "Input IDs shape: torch.Size([2, 52])\n"
     ]
    }
   ],
   "source": [
    "# Taking a couple of sentences from the dataset\n",
    "sample_texts = [dataset[\"train\"][i][\"text\"] for i in range(2)]\n",
    "\n",
    "# Tokenization with padding and conversion to tensors\n",
    "inputs = tokenizer(sample_texts, padding=True, truncation=True, return_tensors=\"pt\")\n",
    "\n",
    "print(\"Tokenized input keys:\", inputs.keys())\n",
    "print(\"Input IDs shape:\", inputs[\"input_ids\"].shape)\n"
   ]
  },
  {
   "cell_type": "code",
   "execution_count": 19,
   "id": "0e70ea09",
   "metadata": {},
   "outputs": [
    {
     "name": "stdout",
     "output_type": "stream",
     "text": [
      "Output keys: odict_keys(['last_hidden_state'])\n",
      "Last hidden state shape: torch.Size([2, 52, 768])\n"
     ]
    },
    {
     "data": {
      "text/plain": [
       "'[CLS] the rock is destined to be the 21st century\\'s new \" conan \" and that he\\'s going to make a splash even greater than arnold schwarzenegger, jean - claud van damme or steven segal. [SEP] [PAD] [PAD] [PAD] [PAD] [PAD]'"
      ]
     },
     "execution_count": 19,
     "metadata": {},
     "output_type": "execute_result"
    }
   ],
   "source": [
    "import torch\n",
    "\n",
    "with torch.no_grad():\n",
    "    outputs = model(**inputs)\n",
    "\n",
    "# outputs è un oggetto di tipo BaseModelOutput, contiene 'last_hidden_state'\n",
    "print(\"Output keys:\", outputs.keys())\n",
    "print(\"Last hidden state shape:\", outputs.last_hidden_state.shape)\n",
    "tokenizer.decode(inputs['input_ids'][0])"
   ]
  },
  {
   "cell_type": "markdown",
   "id": "00c79fbd",
   "metadata": {},
   "source": [
    "Notes: The first token is [CLS], which codifies informations about the sentence and will be used for feature extraction"
   ]
  },
  {
   "cell_type": "markdown",
   "id": "af21ae04",
   "metadata": {},
   "source": [
    "### 1.3 Stable Baseline"
   ]
  },
  {
   "cell_type": "markdown",
   "id": "71939e46",
   "metadata": {},
   "source": [
    "#### 1.3.A: Feature Extraction\n",
    "We will use Distilbert to extract the features from the [CLS] token\n",
    "\n",
    "🛠️ Definition of Extraction function:"
   ]
  },
  {
   "cell_type": "code",
   "execution_count": 28,
   "id": "00e7caf5",
   "metadata": {},
   "outputs": [],
   "source": [
    "import os\n",
    "import numpy as np\n",
    "import torch\n",
    "from transformers import AutoTokenizer, AutoModel\n",
    "from torch.utils.data import DataLoader\n",
    "from tqdm import tqdm\n",
    "\n",
    "def extract_and_save_features(dataset_split, split_name, model, tokenizer, batch_size=32, save_dir=\"features\"):\n",
    "    os.makedirs(save_dir, exist_ok=True)\n",
    "    save_path = os.path.join(save_dir, f\"{split_name}_features.npz\")\n",
    "\n",
    "    if os.path.exists(save_path):\n",
    "        print(f\"Loading from cache: {save_path}\")\n",
    "        data = np.load(save_path)\n",
    "        return data[\"features\"], data[\"labels\"]\n",
    "\n",
    "    dataloader = DataLoader(dataset_split, batch_size=batch_size)\n",
    "    all_features = []\n",
    "    all_labels = []\n",
    "\n",
    "    model.eval()\n",
    "    with torch.no_grad():\n",
    "        for batch in tqdm(dataloader, desc=f\"Extraction {split_name}\"):\n",
    "            texts = batch[\"text\"]\n",
    "            labels = batch[\"label\"]\n",
    "\n",
    "            inputs = tokenizer(texts, return_tensors=\"pt\", padding=True, truncation=True)\n",
    "            outputs = model(**inputs)\n",
    "            cls_embeddings = outputs.last_hidden_state[:, 0, :].numpy()  # batch_size x hidden_size\n",
    "\n",
    "            all_features.append(cls_embeddings)\n",
    "            all_labels.extend(labels)\n",
    "\n",
    "    features = np.concatenate(all_features)\n",
    "    labels = np.array(all_labels)\n",
    "\n",
    "    np.savez(save_path, features=features, labels=labels)\n",
    "    print(f\"Salvato in {save_path}\")\n",
    "    return features, labels\n",
    "\n"
   ]
  },
  {
   "cell_type": "markdown",
   "id": "abc967e3",
   "metadata": {},
   "source": [
    "▶️ Feature Extraction"
   ]
  },
  {
   "cell_type": "code",
   "execution_count": 27,
   "id": "0d9fc75d",
   "metadata": {},
   "outputs": [
    {
     "name": "stderr",
     "output_type": "stream",
     "text": [
      "c:\\Users\\verba\\anaconda3\\lib\\site-packages\\huggingface_hub\\file_download.py:896: FutureWarning: `resume_download` is deprecated and will be removed in version 1.0.0. Downloads always resume when possible. If you want to force a new download, use `force_download=True`.\n",
      "  warnings.warn(\n",
      "Some weights of the model checkpoint at distilbert-base-uncased were not used when initializing DistilBertModel: ['vocab_transform.bias', 'vocab_layer_norm.bias', 'vocab_projector.bias', 'vocab_projector.weight', 'vocab_transform.weight', 'vocab_layer_norm.weight']\n",
      "- This IS expected if you are initializing DistilBertModel from the checkpoint of a model trained on another task or with another architecture (e.g. initializing a BertForSequenceClassification model from a BertForPreTraining model).\n",
      "- This IS NOT expected if you are initializing DistilBertModel from the checkpoint of a model that you expect to be exactly identical (initializing a BertForSequenceClassification model from a BertForSequenceClassification model).\n",
      "Estrazione train: 100%|██████████| 267/267 [03:14<00:00,  1.38it/s]\n"
     ]
    },
    {
     "name": "stdout",
     "output_type": "stream",
     "text": [
      "Salvato in features\\train_features.npz\n"
     ]
    },
    {
     "name": "stderr",
     "output_type": "stream",
     "text": [
      "Estrazione val: 100%|██████████| 34/34 [00:23<00:00,  1.43it/s]\n"
     ]
    },
    {
     "name": "stdout",
     "output_type": "stream",
     "text": [
      "Salvato in features\\val_features.npz\n"
     ]
    },
    {
     "name": "stderr",
     "output_type": "stream",
     "text": [
      "Estrazione test: 100%|██████████| 34/34 [00:27<00:00,  1.24it/s]"
     ]
    },
    {
     "name": "stdout",
     "output_type": "stream",
     "text": [
      "Salvato in features\\test_features.npz\n"
     ]
    },
    {
     "name": "stderr",
     "output_type": "stream",
     "text": [
      "\n"
     ]
    }
   ],
   "source": [
    "model_name = \"distilbert-base-uncased\"\n",
    "tokenizer = AutoTokenizer.from_pretrained(model_name)\n",
    "model = AutoModel.from_pretrained(model_name)\n",
    "\n",
    "X_train, y_train = extract_and_save_features(dataset[\"train\"], \"train\", model, tokenizer)\n",
    "X_val, y_val = extract_and_save_features(dataset[\"validation\"], \"val\", model, tokenizer)\n",
    "X_test, y_test = extract_and_save_features(dataset[\"test\"], \"test\", model, tokenizer)\n"
   ]
  },
  {
   "cell_type": "markdown",
   "id": "d7984aaf",
   "metadata": {},
   "source": [
    "#### 1.3.B: Training a Classifier"
   ]
  },
  {
   "cell_type": "markdown",
   "id": "503cc211",
   "metadata": {},
   "source": [
    "🛠️ Definition of generic evaluation function"
   ]
  },
  {
   "cell_type": "code",
   "execution_count": 29,
   "id": "7700ef38",
   "metadata": {},
   "outputs": [],
   "source": [
    "from sklearn.linear_model import LogisticRegression\n",
    "from sklearn.ensemble import RandomForestClassifier\n",
    "from sklearn.svm import SVC\n",
    "from sklearn.metrics import classification_report, accuracy_score\n",
    "\n",
    "def evaluate_classifier(clf, X_train, y_train, X_val, y_val, X_test, y_test, name=\"\"):\n",
    "    clf.fit(X_train, y_train)\n",
    "\n",
    "    val_pred = clf.predict(X_val)\n",
    "    test_pred = clf.predict(X_test)\n",
    "\n",
    "    print(f\"\\n=== {name} ===\")\n",
    "    print(\"Validation Accuracy:\", accuracy_score(y_val, val_pred))\n",
    "    print(\"Test Accuracy:\", accuracy_score(y_test, test_pred))\n",
    "    print(\"Test Classification Report:\")\n",
    "    print(classification_report(y_test, test_pred, target_names=[\"neg\", \"pos\"]))\n"
   ]
  },
  {
   "cell_type": "markdown",
   "id": "764ad098",
   "metadata": {},
   "source": [
    "▶️ Evaluating with 3 classifiers"
   ]
  },
  {
   "cell_type": "code",
   "execution_count": 30,
   "id": "76d1af9b",
   "metadata": {},
   "outputs": [
    {
     "name": "stdout",
     "output_type": "stream",
     "text": [
      "\n",
      "=== SVM (Linear) ===\n",
      "Validation Accuracy: 0.8189493433395872\n",
      "Test Accuracy: 0.8067542213883677\n",
      "Test Classification Report:\n",
      "              precision    recall  f1-score   support\n",
      "\n",
      "         neg       0.80      0.82      0.81       533\n",
      "         pos       0.82      0.79      0.80       533\n",
      "\n",
      "    accuracy                           0.81      1066\n",
      "   macro avg       0.81      0.81      0.81      1066\n",
      "weighted avg       0.81      0.81      0.81      1066\n",
      "\n",
      "\n",
      "=== Logistic Regression ===\n",
      "Validation Accuracy: 0.8302063789868668\n",
      "Test Accuracy: 0.800187617260788\n",
      "Test Classification Report:\n",
      "              precision    recall  f1-score   support\n",
      "\n",
      "         neg       0.79      0.81      0.80       533\n",
      "         pos       0.81      0.79      0.80       533\n",
      "\n",
      "    accuracy                           0.80      1066\n",
      "   macro avg       0.80      0.80      0.80      1066\n",
      "weighted avg       0.80      0.80      0.80      1066\n",
      "\n",
      "\n",
      "=== Random Forest ===\n",
      "Validation Accuracy: 0.7917448405253283\n",
      "Test Accuracy: 0.7682926829268293\n",
      "Test Classification Report:\n",
      "              precision    recall  f1-score   support\n",
      "\n",
      "         neg       0.74      0.82      0.78       533\n",
      "         pos       0.80      0.72      0.76       533\n",
      "\n",
      "    accuracy                           0.77      1066\n",
      "   macro avg       0.77      0.77      0.77      1066\n",
      "weighted avg       0.77      0.77      0.77      1066\n",
      "\n"
     ]
    }
   ],
   "source": [
    "evaluate_classifier(SVC(kernel=\"linear\"), X_train, y_train, X_val, y_val, X_test, y_test, name=\"SVM (Linear)\")\n",
    "evaluate_classifier(LogisticRegression(max_iter=1000), X_train, y_train, X_val, y_val, X_test, y_test, name=\"Logistic Regression\")\n",
    "evaluate_classifier(RandomForestClassifier(n_estimators=100), X_train, y_train, X_val, y_val, X_test, y_test, name=\"Random Forest\")"
   ]
  }
 ],
 "metadata": {
  "kernelspec": {
   "display_name": "base",
   "language": "python",
   "name": "python3"
  },
  "language_info": {
   "codemirror_mode": {
    "name": "ipython",
    "version": 3
   },
   "file_extension": ".py",
   "mimetype": "text/x-python",
   "name": "python",
   "nbconvert_exporter": "python",
   "pygments_lexer": "ipython3",
   "version": "3.10.9"
  }
 },
 "nbformat": 4,
 "nbformat_minor": 5
}
